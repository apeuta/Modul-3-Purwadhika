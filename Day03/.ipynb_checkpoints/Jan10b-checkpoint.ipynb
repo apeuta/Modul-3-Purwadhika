{
 "cells": [
  {
   "cell_type": "markdown",
   "metadata": {},
   "source": [
    "## Multivariate Linear Regression"
   ]
  },
  {
   "cell_type": "markdown",
   "metadata": {},
   "source": [
    "- Simple linear regression multiple variable\n",
    "$$ \\hat{y} = m_0 x_0 + m_1 x_1 + m_2 x_2 + ... + c $$"
   ]
  },
  {
   "cell_type": "code",
   "execution_count": 1,
   "metadata": {},
   "outputs": [],
   "source": [
    "import pandas as pd\n",
    "import numpy as np\n",
    "import matplotlib.pyplot as plt\n",
    "from sklearn.linear_model import LinearRegression"
   ]
  },
  {
   "cell_type": "code",
   "execution_count": 3,
   "metadata": {},
   "outputs": [
    {
     "data": {
      "text/html": [
       "<div>\n",
       "<style scoped>\n",
       "    .dataframe tbody tr th:only-of-type {\n",
       "        vertical-align: middle;\n",
       "    }\n",
       "\n",
       "    .dataframe tbody tr th {\n",
       "        vertical-align: top;\n",
       "    }\n",
       "\n",
       "    .dataframe thead th {\n",
       "        text-align: right;\n",
       "    }\n",
       "</style>\n",
       "<table border=\"1\" class=\"dataframe\">\n",
       "  <thead>\n",
       "    <tr style=\"text-align: right;\">\n",
       "      <th></th>\n",
       "      <th>mesin (x1)</th>\n",
       "      <th>usia (x2)</th>\n",
       "      <th>km (x3)</th>\n",
       "      <th>harga (y)</th>\n",
       "    </tr>\n",
       "  </thead>\n",
       "  <tbody>\n",
       "    <tr>\n",
       "      <th>0</th>\n",
       "      <td>112</td>\n",
       "      <td>5</td>\n",
       "      <td>8</td>\n",
       "      <td>100</td>\n",
       "    </tr>\n",
       "    <tr>\n",
       "      <th>1</th>\n",
       "      <td>250</td>\n",
       "      <td>3</td>\n",
       "      <td>7</td>\n",
       "      <td>200</td>\n",
       "    </tr>\n",
       "    <tr>\n",
       "      <th>2</th>\n",
       "      <td>360</td>\n",
       "      <td>3</td>\n",
       "      <td>7</td>\n",
       "      <td>300</td>\n",
       "    </tr>\n",
       "    <tr>\n",
       "      <th>3</th>\n",
       "      <td>450</td>\n",
       "      <td>1</td>\n",
       "      <td>5</td>\n",
       "      <td>400</td>\n",
       "    </tr>\n",
       "    <tr>\n",
       "      <th>4</th>\n",
       "      <td>600</td>\n",
       "      <td>1</td>\n",
       "      <td>4</td>\n",
       "      <td>500</td>\n",
       "    </tr>\n",
       "  </tbody>\n",
       "</table>\n",
       "</div>"
      ],
      "text/plain": [
       "   mesin (x1)  usia (x2)  km (x3)  harga (y)\n",
       "0         112          5        8        100\n",
       "1         250          3        7        200\n",
       "2         360          3        7        300\n",
       "3         450          1        5        400\n",
       "4         600          1        4        500"
      ]
     },
     "execution_count": 3,
     "metadata": {},
     "output_type": "execute_result"
    }
   ],
   "source": [
    "data = {\n",
    "    \"mesin (x1)\" : [112, 250, 360, 450, 600],\n",
    "    \"usia (x2)\" : [5, 3, 3, 1, 1],\n",
    "    \"km (x3)\" : [8, 7, 7, 5, 4],\n",
    "    \"harga (y)\" : [100, 200, 300, 400, 500]\n",
    "}\n",
    "df = pd.DataFrame(data)\n",
    "df"
   ]
  },
  {
   "cell_type": "code",
   "execution_count": 4,
   "metadata": {},
   "outputs": [
    {
     "data": {
      "text/html": [
       "<div>\n",
       "<style scoped>\n",
       "    .dataframe tbody tr th:only-of-type {\n",
       "        vertical-align: middle;\n",
       "    }\n",
       "\n",
       "    .dataframe tbody tr th {\n",
       "        vertical-align: top;\n",
       "    }\n",
       "\n",
       "    .dataframe thead th {\n",
       "        text-align: right;\n",
       "    }\n",
       "</style>\n",
       "<table border=\"1\" class=\"dataframe\">\n",
       "  <thead>\n",
       "    <tr style=\"text-align: right;\">\n",
       "      <th></th>\n",
       "      <th>mesin (x1)</th>\n",
       "      <th>usia (x2)</th>\n",
       "      <th>km (x3)</th>\n",
       "      <th>harga (y)</th>\n",
       "    </tr>\n",
       "  </thead>\n",
       "  <tbody>\n",
       "    <tr>\n",
       "      <th>mesin (x1)</th>\n",
       "      <td>1.000000</td>\n",
       "      <td>-0.934973</td>\n",
       "      <td>-0.954740</td>\n",
       "      <td>0.996942</td>\n",
       "    </tr>\n",
       "    <tr>\n",
       "      <th>usia (x2)</th>\n",
       "      <td>-0.934973</td>\n",
       "      <td>1.000000</td>\n",
       "      <td>0.945611</td>\n",
       "      <td>-0.944911</td>\n",
       "    </tr>\n",
       "    <tr>\n",
       "      <th>km (x3)</th>\n",
       "      <td>-0.954740</td>\n",
       "      <td>0.945611</td>\n",
       "      <td>1.000000</td>\n",
       "      <td>-0.962250</td>\n",
       "    </tr>\n",
       "    <tr>\n",
       "      <th>harga (y)</th>\n",
       "      <td>0.996942</td>\n",
       "      <td>-0.944911</td>\n",
       "      <td>-0.962250</td>\n",
       "      <td>1.000000</td>\n",
       "    </tr>\n",
       "  </tbody>\n",
       "</table>\n",
       "</div>"
      ],
      "text/plain": [
       "            mesin (x1)  usia (x2)   km (x3)  harga (y)\n",
       "mesin (x1)    1.000000  -0.934973 -0.954740   0.996942\n",
       "usia (x2)    -0.934973   1.000000  0.945611  -0.944911\n",
       "km (x3)      -0.954740   0.945611  1.000000  -0.962250\n",
       "harga (y)     0.996942  -0.944911 -0.962250   1.000000"
      ]
     },
     "execution_count": 4,
     "metadata": {},
     "output_type": "execute_result"
    }
   ],
   "source": [
    "df.corr()"
   ]
  },
  {
   "cell_type": "code",
   "execution_count": 5,
   "metadata": {},
   "outputs": [
    {
     "data": {
      "text/plain": [
       "LinearRegression(copy_X=True, fit_intercept=True, n_jobs=None, normalize=False)"
      ]
     },
     "execution_count": 5,
     "metadata": {},
     "output_type": "execute_result"
    }
   ],
   "source": [
    "model = LinearRegression()\n",
    "model.fit(df[[\"mesin (x1)\", \"usia (x2)\", \"km (x3)\"]], df[\"harga (y)\"])"
   ]
  },
  {
   "cell_type": "code",
   "execution_count": 17,
   "metadata": {},
   "outputs": [
    {
     "name": "stdout",
     "output_type": "stream",
     "text": [
      "[ 0.72827725 -6.57960824 -7.33299849]\n",
      "104.47011551983917\n"
     ]
    }
   ],
   "source": [
    "m = model.coef_\n",
    "print(model.coef_)\n",
    "\n",
    "c = model.intercept_\n",
    "print(model.intercept_)"
   ]
  },
  {
   "cell_type": "code",
   "execution_count": 18,
   "metadata": {},
   "outputs": [
    {
     "data": {
      "text/html": [
       "<div>\n",
       "<style scoped>\n",
       "    .dataframe tbody tr th:only-of-type {\n",
       "        vertical-align: middle;\n",
       "    }\n",
       "\n",
       "    .dataframe tbody tr th {\n",
       "        vertical-align: top;\n",
       "    }\n",
       "\n",
       "    .dataframe thead th {\n",
       "        text-align: right;\n",
       "    }\n",
       "</style>\n",
       "<table border=\"1\" class=\"dataframe\">\n",
       "  <thead>\n",
       "    <tr style=\"text-align: right;\">\n",
       "      <th></th>\n",
       "      <th>mesin (x1)</th>\n",
       "      <th>usia (x2)</th>\n",
       "      <th>km (x3)</th>\n",
       "      <th>harga (y)</th>\n",
       "      <th>Best Price</th>\n",
       "    </tr>\n",
       "  </thead>\n",
       "  <tbody>\n",
       "    <tr>\n",
       "      <th>0</th>\n",
       "      <td>112</td>\n",
       "      <td>5</td>\n",
       "      <td>8</td>\n",
       "      <td>100</td>\n",
       "      <td>94.475138</td>\n",
       "    </tr>\n",
       "    <tr>\n",
       "      <th>1</th>\n",
       "      <td>250</td>\n",
       "      <td>3</td>\n",
       "      <td>7</td>\n",
       "      <td>200</td>\n",
       "      <td>215.469613</td>\n",
       "    </tr>\n",
       "    <tr>\n",
       "      <th>2</th>\n",
       "      <td>360</td>\n",
       "      <td>3</td>\n",
       "      <td>7</td>\n",
       "      <td>300</td>\n",
       "      <td>295.580110</td>\n",
       "    </tr>\n",
       "    <tr>\n",
       "      <th>3</th>\n",
       "      <td>450</td>\n",
       "      <td>1</td>\n",
       "      <td>5</td>\n",
       "      <td>400</td>\n",
       "      <td>388.950276</td>\n",
       "    </tr>\n",
       "    <tr>\n",
       "      <th>4</th>\n",
       "      <td>600</td>\n",
       "      <td>1</td>\n",
       "      <td>4</td>\n",
       "      <td>500</td>\n",
       "      <td>505.524862</td>\n",
       "    </tr>\n",
       "  </tbody>\n",
       "</table>\n",
       "</div>"
      ],
      "text/plain": [
       "   mesin (x1)  usia (x2)  km (x3)  harga (y)  Best Price\n",
       "0         112          5        8        100   94.475138\n",
       "1         250          3        7        200  215.469613\n",
       "2         360          3        7        300  295.580110\n",
       "3         450          1        5        400  388.950276\n",
       "4         600          1        4        500  505.524862"
      ]
     },
     "execution_count": 18,
     "metadata": {},
     "output_type": "execute_result"
    }
   ],
   "source": [
    "df[\"Best Price\"] = model.predict(df[[\"mesin (x1)\", \"usia (x2)\", \"km (x3)\"]])\n",
    "df"
   ]
  },
  {
   "cell_type": "code",
   "execution_count": 19,
   "metadata": {},
   "outputs": [
    {
     "data": {
      "image/png": "[encoded data removed]",
      "text/plain": [
       "<Figure size 648x288 with 3 Axes>"
      ]
     },
     "metadata": {
      "needs_background": "light"
     },
     "output_type": "display_data"
    }
   ],
   "source": [
    "plt.figure(figsize=(9,4))\n",
    "\n",
    "plt.subplot(131)\n",
    "plt.plot(df[\"mesin (x1)\"], df[\"harga (y)\"], \"ro-\")\n",
    "plt.plot(df[\"mesin (x1)\"], df[\"Best Price\"], \"yo-\")\n",
    "\n",
    "plt.subplot(132)\n",
    "plt.plot(df[\"usia (x2)\"], df[\"harga (y)\"], \"go-\")\n",
    "plt.plot(df[\"usia (x2)\"], df[\"Best Price\"], \"yo-\")\n",
    "\n",
    "plt.subplot(133)\n",
    "plt.plot(df[\"km (x3)\"], df[\"harga (y)\"], \"bo-\")\n",
    "plt.plot(df[\"km (x3)\"], df[\"Best Price\"], \"yo-\")\n",
    "\n",
    "plt.show()"
   ]
  },
  {
   "cell_type": "code",
   "execution_count": 20,
   "metadata": {},
   "outputs": [
    {
     "data": {
      "text/html": [
       "<div>\n",
       "<style scoped>\n",
       "    .dataframe tbody tr th:only-of-type {\n",
       "        vertical-align: middle;\n",
       "    }\n",
       "\n",
       "    .dataframe tbody tr th {\n",
       "        vertical-align: top;\n",
       "    }\n",
       "\n",
       "    .dataframe thead th {\n",
       "        text-align: right;\n",
       "    }\n",
       "</style>\n",
       "<table border=\"1\" class=\"dataframe\">\n",
       "  <thead>\n",
       "    <tr style=\"text-align: right;\">\n",
       "      <th></th>\n",
       "      <th>mesin (x1)</th>\n",
       "      <th>usia (x2)</th>\n",
       "      <th>km (x3)</th>\n",
       "      <th>harga (y)</th>\n",
       "      <th>Best Price</th>\n",
       "      <th>y'x1</th>\n",
       "      <th>y'x2</th>\n",
       "      <th>y'x3</th>\n",
       "    </tr>\n",
       "  </thead>\n",
       "  <tbody>\n",
       "    <tr>\n",
       "      <th>0</th>\n",
       "      <td>112</td>\n",
       "      <td>5</td>\n",
       "      <td>8</td>\n",
       "      <td>100</td>\n",
       "      <td>94.475138</td>\n",
       "      <td>186.037167</td>\n",
       "      <td>71.572074</td>\n",
       "      <td>45.806128</td>\n",
       "    </tr>\n",
       "    <tr>\n",
       "      <th>1</th>\n",
       "      <td>250</td>\n",
       "      <td>3</td>\n",
       "      <td>7</td>\n",
       "      <td>200</td>\n",
       "      <td>215.469613</td>\n",
       "      <td>286.539427</td>\n",
       "      <td>84.731291</td>\n",
       "      <td>53.139126</td>\n",
       "    </tr>\n",
       "    <tr>\n",
       "      <th>2</th>\n",
       "      <td>360</td>\n",
       "      <td>3</td>\n",
       "      <td>7</td>\n",
       "      <td>300</td>\n",
       "      <td>295.580110</td>\n",
       "      <td>366.649925</td>\n",
       "      <td>84.731291</td>\n",
       "      <td>53.139126</td>\n",
       "    </tr>\n",
       "    <tr>\n",
       "      <th>3</th>\n",
       "      <td>450</td>\n",
       "      <td>1</td>\n",
       "      <td>5</td>\n",
       "      <td>400</td>\n",
       "      <td>388.950276</td>\n",
       "      <td>432.194877</td>\n",
       "      <td>97.890507</td>\n",
       "      <td>67.805123</td>\n",
       "    </tr>\n",
       "    <tr>\n",
       "      <th>4</th>\n",
       "      <td>600</td>\n",
       "      <td>1</td>\n",
       "      <td>4</td>\n",
       "      <td>500</td>\n",
       "      <td>505.524862</td>\n",
       "      <td>541.436464</td>\n",
       "      <td>97.890507</td>\n",
       "      <td>75.138122</td>\n",
       "    </tr>\n",
       "  </tbody>\n",
       "</table>\n",
       "</div>"
      ],
      "text/plain": [
       "   mesin (x1)  usia (x2)  km (x3)  harga (y)  Best Price        y'x1  \\\n",
       "0         112          5        8        100   94.475138  186.037167   \n",
       "1         250          3        7        200  215.469613  286.539427   \n",
       "2         360          3        7        300  295.580110  366.649925   \n",
       "3         450          1        5        400  388.950276  432.194877   \n",
       "4         600          1        4        500  505.524862  541.436464   \n",
       "\n",
       "        y'x2       y'x3  \n",
       "0  71.572074  45.806128  \n",
       "1  84.731291  53.139126  \n",
       "2  84.731291  53.139126  \n",
       "3  97.890507  67.805123  \n",
       "4  97.890507  75.138122  "
      ]
     },
     "execution_count": 20,
     "metadata": {},
     "output_type": "execute_result"
    }
   ],
   "source": [
    "df[\"y'x1\"] = m[0] * df[\"mesin (x1)\"] + c\n",
    "df[\"y'x2\"] = m[1] * df[\"usia (x2)\"] + c\n",
    "df[\"y'x3\"] = m[2] * df[\"km (x3)\"] + c\n",
    "df"
   ]
  },
  {
   "cell_type": "code",
   "execution_count": 21,
   "metadata": {},
   "outputs": [
    {
     "data": {
      "image/png": "[encoded data removed]",
      "text/plain": [
       "<Figure size 648x288 with 3 Axes>"
      ]
     },
     "metadata": {
      "needs_background": "light"
     },
     "output_type": "display_data"
    }
   ],
   "source": [
    "plt.figure(figsize=(9,4))\n",
    "\n",
    "plt.subplot(131)\n",
    "plt.plot(df[\"mesin (x1)\"], df[\"harga (y)\"], \"ro-\")\n",
    "plt.plot(df[\"mesin (x1)\"], df[\"y'x1\"], \"yo-\")\n",
    "\n",
    "plt.subplot(132)\n",
    "plt.plot(df[\"usia (x2)\"], df[\"harga (y)\"], \"go-\")\n",
    "plt.plot(df[\"usia (x2)\"], df[\"y'x2\"], \"yo-\")\n",
    "\n",
    "plt.subplot(133)\n",
    "plt.plot(df[\"km (x3)\"], df[\"harga (y)\"], \"bo-\")\n",
    "plt.plot(df[\"km (x3)\"], df[\"y'x3\"], \"yo-\")\n",
    "\n",
    "plt.show()"
   ]
  },
  {
   "cell_type": "markdown",
   "metadata": {},
   "source": [
    "___"
   ]
  },
  {
   "cell_type": "code",
   "execution_count": 27,
   "metadata": {},
   "outputs": [],
   "source": [
    "from sklearn.metrics import mean_absolute_error as mae\n",
    "from sklearn.metrics import mean_squared_error as mse\n",
    "from sklearn.metrics import mean_squared_log_error as msle\n",
    "from sklearn.metrics import median_absolute_error as mdae\n",
    "from sklearn.metrics import r2_score as r2"
   ]
  },
  {
   "cell_type": "code",
   "execution_count": 29,
   "metadata": {},
   "outputs": [
    {
     "name": "stdout",
     "output_type": "stream",
     "text": [
      "MAE : 8.397790055248617\n",
      "MSE : 88.3977900552487\n",
      "RMSE : 9.402009894445374\n",
      "MSLE : 0.0019563967494522416\n",
      "RMSLE : 0.04423117395516698\n",
      "MedAE : 5.524861878453066\n",
      "R2 : 0.9955801104972376\n"
     ]
    }
   ],
   "source": [
    "print (\"MAE :\", mae(df[\"harga (y)\"], df[\"Best Price\"]))\n",
    "print (\"MSE :\", mse(df[\"harga (y)\"], df[\"Best Price\"]))\n",
    "print (\"RMSE :\", np.sqrt(mse(df[\"harga (y)\"], df[\"Best Price\"])))\n",
    "print (\"MSLE :\", msle(df[\"harga (y)\"], df[\"Best Price\"]))\n",
    "print (\"RMSLE :\", np.sqrt(msle(df[\"harga (y)\"], df[\"Best Price\"])))\n",
    "print (\"MedAE :\", mdae(df[\"harga (y)\"], df[\"Best Price\"]))\n",
    "print (\"R2 :\", r2(df[\"harga (y)\"], df[\"Best Price\"]))"
   ]
  },
  {
   "cell_type": "code",
   "execution_count": null,
   "metadata": {},
   "outputs": [],
   "source": []
  }
 ],
 "metadata": {
  "kernelspec": {
   "display_name": "Python 3",
   "language": "python",
   "name": "python3"
  },
  "language_info": {
   "codemirror_mode": {
    "name": "ipython",
    "version": 3
   },
   "file_extension": ".py",
   "mimetype": "text/x-python",
   "name": "python",
   "nbconvert_exporter": "python",
   "pygments_lexer": "ipython3",
   "version": "3.8.0"
  }
 },
 "nbformat": 4,
 "nbformat_minor": 4
}
