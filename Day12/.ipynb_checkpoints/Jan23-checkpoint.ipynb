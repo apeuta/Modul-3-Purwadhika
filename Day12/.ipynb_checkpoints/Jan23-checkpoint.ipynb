{
 "cells": [
  {
   "cell_type": "code",
   "execution_count": 1,
   "metadata": {},
   "outputs": [],
   "source": [
    "import numpy as np\n",
    "import pandas as pd\n",
    "from sklearn.linear_model import LogisticRegression"
   ]
  },
  {
   "cell_type": "code",
   "execution_count": 22,
   "metadata": {},
   "outputs": [
    {
     "data": {
      "text/html": [
       "<div>\n",
       "<style scoped>\n",
       "    .dataframe tbody tr th:only-of-type {\n",
       "        vertical-align: middle;\n",
       "    }\n",
       "\n",
       "    .dataframe tbody tr th {\n",
       "        vertical-align: top;\n",
       "    }\n",
       "\n",
       "    .dataframe thead th {\n",
       "        text-align: right;\n",
       "    }\n",
       "</style>\n",
       "<table border=\"1\" class=\"dataframe\">\n",
       "  <thead>\n",
       "    <tr style=\"text-align: right;\">\n",
       "      <th></th>\n",
       "      <th>x</th>\n",
       "      <th>y</th>\n",
       "    </tr>\n",
       "  </thead>\n",
       "  <tbody>\n",
       "    <tr>\n",
       "      <th>0</th>\n",
       "      <td>1</td>\n",
       "      <td>Sarah</td>\n",
       "    </tr>\n",
       "    <tr>\n",
       "      <th>1</th>\n",
       "      <td>2</td>\n",
       "      <td>Sarah</td>\n",
       "    </tr>\n",
       "    <tr>\n",
       "      <th>2</th>\n",
       "      <td>3</td>\n",
       "      <td>Sarah</td>\n",
       "    </tr>\n",
       "    <tr>\n",
       "      <th>3</th>\n",
       "      <td>4</td>\n",
       "      <td>Sarah</td>\n",
       "    </tr>\n",
       "    <tr>\n",
       "      <th>4</th>\n",
       "      <td>5</td>\n",
       "      <td>Sarah</td>\n",
       "    </tr>\n",
       "    <tr>\n",
       "      <th>5</th>\n",
       "      <td>6</td>\n",
       "      <td>Sarah</td>\n",
       "    </tr>\n",
       "    <tr>\n",
       "      <th>6</th>\n",
       "      <td>7</td>\n",
       "      <td>Zaenab</td>\n",
       "    </tr>\n",
       "    <tr>\n",
       "      <th>7</th>\n",
       "      <td>8</td>\n",
       "      <td>Sarah</td>\n",
       "    </tr>\n",
       "    <tr>\n",
       "      <th>8</th>\n",
       "      <td>9</td>\n",
       "      <td>Zaenab</td>\n",
       "    </tr>\n",
       "    <tr>\n",
       "      <th>9</th>\n",
       "      <td>10</td>\n",
       "      <td>Zaenab</td>\n",
       "    </tr>\n",
       "    <tr>\n",
       "      <th>10</th>\n",
       "      <td>11</td>\n",
       "      <td>Sarah</td>\n",
       "    </tr>\n",
       "    <tr>\n",
       "      <th>11</th>\n",
       "      <td>12</td>\n",
       "      <td>Sarah</td>\n",
       "    </tr>\n",
       "    <tr>\n",
       "      <th>12</th>\n",
       "      <td>13</td>\n",
       "      <td>Zaenab</td>\n",
       "    </tr>\n",
       "    <tr>\n",
       "      <th>13</th>\n",
       "      <td>14</td>\n",
       "      <td>Sarah</td>\n",
       "    </tr>\n",
       "    <tr>\n",
       "      <th>14</th>\n",
       "      <td>15</td>\n",
       "      <td>Zaenab</td>\n",
       "    </tr>\n",
       "    <tr>\n",
       "      <th>15</th>\n",
       "      <td>16</td>\n",
       "      <td>Zaenab</td>\n",
       "    </tr>\n",
       "    <tr>\n",
       "      <th>16</th>\n",
       "      <td>17</td>\n",
       "      <td>Zaenab</td>\n",
       "    </tr>\n",
       "    <tr>\n",
       "      <th>17</th>\n",
       "      <td>18</td>\n",
       "      <td>Zaenab</td>\n",
       "    </tr>\n",
       "    <tr>\n",
       "      <th>18</th>\n",
       "      <td>19</td>\n",
       "      <td>Zaenab</td>\n",
       "    </tr>\n",
       "    <tr>\n",
       "      <th>19</th>\n",
       "      <td>20</td>\n",
       "      <td>Zaenab</td>\n",
       "    </tr>\n",
       "  </tbody>\n",
       "</table>\n",
       "</div>"
      ],
      "text/plain": [
       "     x       y\n",
       "0    1   Sarah\n",
       "1    2   Sarah\n",
       "2    3   Sarah\n",
       "3    4   Sarah\n",
       "4    5   Sarah\n",
       "5    6   Sarah\n",
       "6    7  Zaenab\n",
       "7    8   Sarah\n",
       "8    9  Zaenab\n",
       "9   10  Zaenab\n",
       "10  11   Sarah\n",
       "11  12   Sarah\n",
       "12  13  Zaenab\n",
       "13  14   Sarah\n",
       "14  15  Zaenab\n",
       "15  16  Zaenab\n",
       "16  17  Zaenab\n",
       "17  18  Zaenab\n",
       "18  19  Zaenab\n",
       "19  20  Zaenab"
      ]
     },
     "execution_count": 22,
     "metadata": {},
     "output_type": "execute_result"
    }
   ],
   "source": [
    "data = {\n",
    "    \"x\" : np.arange(1,21),\n",
    "    \"y\" : np.array([\n",
    "        \"Sarah\", \"Sarah\", \"Sarah\", \"Sarah\", \"Sarah\", \n",
    "        \"Sarah\", \"Zaenab\", \"Sarah\", \"Zaenab\", \"Zaenab\", \n",
    "        \"Sarah\", \"Sarah\", \"Zaenab\", \"Sarah\", \"Zaenab\", \n",
    "        \"Zaenab\", \"Zaenab\", \"Zaenab\", \"Zaenab\", \"Zaenab\", \n",
    "    ])\n",
    "}\n",
    "df = pd.DataFrame(data)\n",
    "df"
   ]
  },
  {
   "cell_type": "code",
   "execution_count": 23,
   "metadata": {},
   "outputs": [
    {
     "data": {
      "text/html": [
       "<div>\n",
       "<style scoped>\n",
       "    .dataframe tbody tr th:only-of-type {\n",
       "        vertical-align: middle;\n",
       "    }\n",
       "\n",
       "    .dataframe tbody tr th {\n",
       "        vertical-align: top;\n",
       "    }\n",
       "\n",
       "    .dataframe thead th {\n",
       "        text-align: right;\n",
       "    }\n",
       "</style>\n",
       "<table border=\"1\" class=\"dataframe\">\n",
       "  <thead>\n",
       "    <tr style=\"text-align: right;\">\n",
       "      <th></th>\n",
       "      <th>x</th>\n",
       "      <th>y</th>\n",
       "      <th>yp</th>\n",
       "    </tr>\n",
       "  </thead>\n",
       "  <tbody>\n",
       "    <tr>\n",
       "      <th>0</th>\n",
       "      <td>1</td>\n",
       "      <td>Sarah</td>\n",
       "      <td>Sarah</td>\n",
       "    </tr>\n",
       "    <tr>\n",
       "      <th>1</th>\n",
       "      <td>2</td>\n",
       "      <td>Sarah</td>\n",
       "      <td>Sarah</td>\n",
       "    </tr>\n",
       "    <tr>\n",
       "      <th>2</th>\n",
       "      <td>3</td>\n",
       "      <td>Sarah</td>\n",
       "      <td>Sarah</td>\n",
       "    </tr>\n",
       "    <tr>\n",
       "      <th>3</th>\n",
       "      <td>4</td>\n",
       "      <td>Sarah</td>\n",
       "      <td>Sarah</td>\n",
       "    </tr>\n",
       "    <tr>\n",
       "      <th>4</th>\n",
       "      <td>5</td>\n",
       "      <td>Sarah</td>\n",
       "      <td>Sarah</td>\n",
       "    </tr>\n",
       "    <tr>\n",
       "      <th>5</th>\n",
       "      <td>6</td>\n",
       "      <td>Sarah</td>\n",
       "      <td>Sarah</td>\n",
       "    </tr>\n",
       "    <tr>\n",
       "      <th>6</th>\n",
       "      <td>7</td>\n",
       "      <td>Zaenab</td>\n",
       "      <td>Sarah</td>\n",
       "    </tr>\n",
       "    <tr>\n",
       "      <th>7</th>\n",
       "      <td>8</td>\n",
       "      <td>Sarah</td>\n",
       "      <td>Sarah</td>\n",
       "    </tr>\n",
       "    <tr>\n",
       "      <th>8</th>\n",
       "      <td>9</td>\n",
       "      <td>Zaenab</td>\n",
       "      <td>Sarah</td>\n",
       "    </tr>\n",
       "    <tr>\n",
       "      <th>9</th>\n",
       "      <td>10</td>\n",
       "      <td>Zaenab</td>\n",
       "      <td>Sarah</td>\n",
       "    </tr>\n",
       "    <tr>\n",
       "      <th>10</th>\n",
       "      <td>11</td>\n",
       "      <td>Sarah</td>\n",
       "      <td>Zaenab</td>\n",
       "    </tr>\n",
       "    <tr>\n",
       "      <th>11</th>\n",
       "      <td>12</td>\n",
       "      <td>Sarah</td>\n",
       "      <td>Zaenab</td>\n",
       "    </tr>\n",
       "    <tr>\n",
       "      <th>12</th>\n",
       "      <td>13</td>\n",
       "      <td>Zaenab</td>\n",
       "      <td>Zaenab</td>\n",
       "    </tr>\n",
       "    <tr>\n",
       "      <th>13</th>\n",
       "      <td>14</td>\n",
       "      <td>Sarah</td>\n",
       "      <td>Zaenab</td>\n",
       "    </tr>\n",
       "    <tr>\n",
       "      <th>14</th>\n",
       "      <td>15</td>\n",
       "      <td>Zaenab</td>\n",
       "      <td>Zaenab</td>\n",
       "    </tr>\n",
       "    <tr>\n",
       "      <th>15</th>\n",
       "      <td>16</td>\n",
       "      <td>Zaenab</td>\n",
       "      <td>Zaenab</td>\n",
       "    </tr>\n",
       "    <tr>\n",
       "      <th>16</th>\n",
       "      <td>17</td>\n",
       "      <td>Zaenab</td>\n",
       "      <td>Zaenab</td>\n",
       "    </tr>\n",
       "    <tr>\n",
       "      <th>17</th>\n",
       "      <td>18</td>\n",
       "      <td>Zaenab</td>\n",
       "      <td>Zaenab</td>\n",
       "    </tr>\n",
       "    <tr>\n",
       "      <th>18</th>\n",
       "      <td>19</td>\n",
       "      <td>Zaenab</td>\n",
       "      <td>Zaenab</td>\n",
       "    </tr>\n",
       "    <tr>\n",
       "      <th>19</th>\n",
       "      <td>20</td>\n",
       "      <td>Zaenab</td>\n",
       "      <td>Zaenab</td>\n",
       "    </tr>\n",
       "  </tbody>\n",
       "</table>\n",
       "</div>"
      ],
      "text/plain": [
       "     x       y      yp\n",
       "0    1   Sarah   Sarah\n",
       "1    2   Sarah   Sarah\n",
       "2    3   Sarah   Sarah\n",
       "3    4   Sarah   Sarah\n",
       "4    5   Sarah   Sarah\n",
       "5    6   Sarah   Sarah\n",
       "6    7  Zaenab   Sarah\n",
       "7    8   Sarah   Sarah\n",
       "8    9  Zaenab   Sarah\n",
       "9   10  Zaenab   Sarah\n",
       "10  11   Sarah  Zaenab\n",
       "11  12   Sarah  Zaenab\n",
       "12  13  Zaenab  Zaenab\n",
       "13  14   Sarah  Zaenab\n",
       "14  15  Zaenab  Zaenab\n",
       "15  16  Zaenab  Zaenab\n",
       "16  17  Zaenab  Zaenab\n",
       "17  18  Zaenab  Zaenab\n",
       "18  19  Zaenab  Zaenab\n",
       "19  20  Zaenab  Zaenab"
      ]
     },
     "execution_count": 23,
     "metadata": {},
     "output_type": "execute_result"
    }
   ],
   "source": [
    "model = LogisticRegression(solver= \"lbfgs\")\n",
    "model.fit(df[[\"x\"]], df[\"y\"])\n",
    "yp = model.predict(df[[\"x\"]])\n",
    "df[\"yp\"] = yp\n",
    "df"
   ]
  },
  {
   "cell_type": "markdown",
   "metadata": {},
   "source": [
    "Sarah = 0 ; Zaenab = 1 </br>\n",
    "\n",
    "- | Predict Sarah | Predict Zaenab\n",
    "- | - | -\n",
    "__Actual Sarah__ | TN | FN\n",
    "__Actual Zaenab__ | FP | TP"
   ]
  },
  {
   "cell_type": "markdown",
   "metadata": {},
   "source": [
    "#### TP"
   ]
  },
  {
   "cell_type": "code",
   "execution_count": 24,
   "metadata": {},
   "outputs": [
    {
     "name": "stderr",
     "output_type": "stream",
     "text": [
      "<ipython-input-24-2e3aa7418862>:1: UserWarning: Boolean Series key will be reindexed to match DataFrame index.\n",
      "  df[df[\"y\"] == \"Zaenab\"][df[\"yp\"] == \"Zaenab\"]\n"
     ]
    },
    {
     "data": {
      "text/html": [
       "<div>\n",
       "<style scoped>\n",
       "    .dataframe tbody tr th:only-of-type {\n",
       "        vertical-align: middle;\n",
       "    }\n",
       "\n",
       "    .dataframe tbody tr th {\n",
       "        vertical-align: top;\n",
       "    }\n",
       "\n",
       "    .dataframe thead th {\n",
       "        text-align: right;\n",
       "    }\n",
       "</style>\n",
       "<table border=\"1\" class=\"dataframe\">\n",
       "  <thead>\n",
       "    <tr style=\"text-align: right;\">\n",
       "      <th></th>\n",
       "      <th>x</th>\n",
       "      <th>y</th>\n",
       "      <th>yp</th>\n",
       "    </tr>\n",
       "  </thead>\n",
       "  <tbody>\n",
       "    <tr>\n",
       "      <th>12</th>\n",
       "      <td>13</td>\n",
       "      <td>Zaenab</td>\n",
       "      <td>Zaenab</td>\n",
       "    </tr>\n",
       "    <tr>\n",
       "      <th>14</th>\n",
       "      <td>15</td>\n",
       "      <td>Zaenab</td>\n",
       "      <td>Zaenab</td>\n",
       "    </tr>\n",
       "    <tr>\n",
       "      <th>15</th>\n",
       "      <td>16</td>\n",
       "      <td>Zaenab</td>\n",
       "      <td>Zaenab</td>\n",
       "    </tr>\n",
       "    <tr>\n",
       "      <th>16</th>\n",
       "      <td>17</td>\n",
       "      <td>Zaenab</td>\n",
       "      <td>Zaenab</td>\n",
       "    </tr>\n",
       "    <tr>\n",
       "      <th>17</th>\n",
       "      <td>18</td>\n",
       "      <td>Zaenab</td>\n",
       "      <td>Zaenab</td>\n",
       "    </tr>\n",
       "    <tr>\n",
       "      <th>18</th>\n",
       "      <td>19</td>\n",
       "      <td>Zaenab</td>\n",
       "      <td>Zaenab</td>\n",
       "    </tr>\n",
       "    <tr>\n",
       "      <th>19</th>\n",
       "      <td>20</td>\n",
       "      <td>Zaenab</td>\n",
       "      <td>Zaenab</td>\n",
       "    </tr>\n",
       "  </tbody>\n",
       "</table>\n",
       "</div>"
      ],
      "text/plain": [
       "     x       y      yp\n",
       "12  13  Zaenab  Zaenab\n",
       "14  15  Zaenab  Zaenab\n",
       "15  16  Zaenab  Zaenab\n",
       "16  17  Zaenab  Zaenab\n",
       "17  18  Zaenab  Zaenab\n",
       "18  19  Zaenab  Zaenab\n",
       "19  20  Zaenab  Zaenab"
      ]
     },
     "execution_count": 24,
     "metadata": {},
     "output_type": "execute_result"
    }
   ],
   "source": [
    "df[df[\"y\"] == \"Zaenab\"][df[\"yp\"] == \"Zaenab\"]"
   ]
  },
  {
   "cell_type": "code",
   "execution_count": 28,
   "metadata": {},
   "outputs": [
    {
     "name": "stderr",
     "output_type": "stream",
     "text": [
      "<ipython-input-28-b4e0da0d3fb0>:1: UserWarning: Boolean Series key will be reindexed to match DataFrame index.\n",
      "  tp = len(df[df[\"y\"] == \"Zaenab\"][df[\"yp\"] == \"Zaenab\"].index)\n",
      "<ipython-input-28-b4e0da0d3fb0>:2: UserWarning: Boolean Series key will be reindexed to match DataFrame index.\n",
      "  tn = len(df[df[\"y\"] == \"Sarah\"][df[\"yp\"] == \"Sarah\"].index)\n",
      "<ipython-input-28-b4e0da0d3fb0>:3: UserWarning: Boolean Series key will be reindexed to match DataFrame index.\n",
      "  fn = len(df[df[\"y\"] == \"Zaenab\"][df[\"yp\"] == \"Sarah\"].index)\n",
      "<ipython-input-28-b4e0da0d3fb0>:4: UserWarning: Boolean Series key will be reindexed to match DataFrame index.\n",
      "  fp = len(df[df[\"y\"] == \"Sarah\"][df[\"yp\"] == \"Zaenab\"].index)\n"
     ]
    },
    {
     "data": {
      "text/plain": [
       "(7, 3, 3, 7)"
      ]
     },
     "execution_count": 28,
     "metadata": {},
     "output_type": "execute_result"
    }
   ],
   "source": [
    "tp = len(df[df[\"y\"] == \"Zaenab\"][df[\"yp\"] == \"Zaenab\"].index)\n",
    "tn = len(df[df[\"y\"] == \"Sarah\"][df[\"yp\"] == \"Sarah\"].index)\n",
    "fn = len(df[df[\"y\"] == \"Zaenab\"][df[\"yp\"] == \"Sarah\"].index)\n",
    "fp = len(df[df[\"y\"] == \"Sarah\"][df[\"yp\"] == \"Zaenab\"].index)\n",
    "\n",
    "tp, fn, fp, tn"
   ]
  },
  {
   "cell_type": "code",
   "execution_count": 39,
   "metadata": {},
   "outputs": [
    {
     "name": "stdout",
     "output_type": "stream",
     "text": [
      "1. Akurasi : 0.7\n",
      "2. Error Rate : 0.3\n",
      "3. TPrate / Recall+ : 0.7\n",
      "4. FPrate : 0.3\n",
      "5. TNrate / Recall- : 0.7\n",
      "6. FNrate : 0.3\n",
      "7a. Precision+ : 0.7\n",
      "7b. Precision- : 0.7\n",
      "8. Prevalence : 0.5\n",
      "9. Null Error Rate : 0.5\n",
      "10. F1 Score : 0.7\n",
      "11. bACC : 0.7\n"
     ]
    }
   ],
   "source": [
    "print(\"1. Akurasi :\", (tp + tn) / len(df[\"y\"]))\n",
    "print(\"2. Error Rate :\", (fp + fn) / len(df[\"y\"]))\n",
    "print(\"3. TPrate / Recall+ :\", tp / (tp + fn))\n",
    "print(\"4. FPrate :\", fp / (fp + tn))\n",
    "print(\"5. TNrate / Recall- :\", tn / (fp + tn))\n",
    "print(\"6. FNrate :\", fn / (tp + fn))\n",
    "print(\"7a. Precision+ :\", tp / (tp + fp))\n",
    "print(\"7b. Precision- :\", tn / (tn + fn))\n",
    "print(\"8. Prevalence :\", (tp + fn) / len(df[\"y\"]))\n",
    "print(\"9. Null Error Rate :\", (fp + tn) / len(df[\"y\"]))\n",
    "print(\"10. F1 Score :\", 2 * (((tp / (tp + fp)) * (tp / (tp + fn))) / ((tp / (tp + fp)) + (tp / (tp + fn)))))\n",
    "print(\"11. bACC :\", ((tp / (tp + fn)) + (tn / (fp + tn))) / 2 )"
   ]
  },
  {
   "cell_type": "markdown",
   "metadata": {},
   "source": [
    "____"
   ]
  },
  {
   "cell_type": "code",
   "execution_count": 30,
   "metadata": {},
   "outputs": [],
   "source": [
    "from sklearn.metrics import confusion_matrix"
   ]
  },
  {
   "cell_type": "code",
   "execution_count": 31,
   "metadata": {},
   "outputs": [
    {
     "data": {
      "text/plain": [
       "array([[7, 3],\n",
       "       [3, 7]])"
      ]
     },
     "execution_count": 31,
     "metadata": {},
     "output_type": "execute_result"
    }
   ],
   "source": [
    "confusion_matrix(df[\"y\"], df[\"yp\"])"
   ]
  },
  {
   "cell_type": "code",
   "execution_count": 32,
   "metadata": {},
   "outputs": [
    {
     "data": {
      "text/plain": [
       "(7, 3, 3, 7)"
      ]
     },
     "execution_count": 32,
     "metadata": {},
     "output_type": "execute_result"
    }
   ],
   "source": [
    "TP, FN, FP, TN = confusion_matrix(df[\"y\"], df[\"yp\"]).ravel()\n",
    "TP, FN, FP, TN"
   ]
  },
  {
   "cell_type": "markdown",
   "metadata": {},
   "source": [
    "#### Accuracy"
   ]
  },
  {
   "cell_type": "code",
   "execution_count": 33,
   "metadata": {},
   "outputs": [
    {
     "data": {
      "text/plain": [
       "0.7"
      ]
     },
     "execution_count": 33,
     "metadata": {},
     "output_type": "execute_result"
    }
   ],
   "source": [
    "model.score(df[[\"x\"]], df[\"y\"])"
   ]
  },
  {
   "cell_type": "code",
   "execution_count": 34,
   "metadata": {},
   "outputs": [
    {
     "data": {
      "text/plain": [
       "0.7"
      ]
     },
     "execution_count": 34,
     "metadata": {},
     "output_type": "execute_result"
    }
   ],
   "source": [
    "from sklearn.metrics import accuracy_score\n",
    "accuracy_score(df[\"y\"], df[\"yp\"])"
   ]
  },
  {
   "cell_type": "markdown",
   "metadata": {},
   "source": [
    "#### Recall+"
   ]
  },
  {
   "cell_type": "code",
   "execution_count": 35,
   "metadata": {},
   "outputs": [
    {
     "data": {
      "text/plain": [
       "0.7"
      ]
     },
     "execution_count": 35,
     "metadata": {},
     "output_type": "execute_result"
    }
   ],
   "source": [
    "from sklearn.metrics import recall_score\n",
    "recall_score(df[\"y\"], df[\"yp\"], pos_label= \"Zaenab\")"
   ]
  },
  {
   "cell_type": "markdown",
   "metadata": {},
   "source": [
    "#### Recall-"
   ]
  },
  {
   "cell_type": "code",
   "execution_count": 36,
   "metadata": {},
   "outputs": [
    {
     "data": {
      "text/plain": [
       "0.7"
      ]
     },
     "execution_count": 36,
     "metadata": {},
     "output_type": "execute_result"
    }
   ],
   "source": [
    "recall_score(df[\"y\"], df[\"yp\"], pos_label= \"Sarah\")"
   ]
  },
  {
   "cell_type": "markdown",
   "metadata": {},
   "source": [
    "#### Precision+"
   ]
  },
  {
   "cell_type": "code",
   "execution_count": 37,
   "metadata": {},
   "outputs": [
    {
     "data": {
      "text/plain": [
       "0.7"
      ]
     },
     "execution_count": 37,
     "metadata": {},
     "output_type": "execute_result"
    }
   ],
   "source": [
    "from sklearn.metrics import precision_score\n",
    "precision_score(df[\"y\"], df[\"yp\"], pos_label= \"Zaenab\")"
   ]
  },
  {
   "cell_type": "markdown",
   "metadata": {},
   "source": [
    "#### Precision-"
   ]
  },
  {
   "cell_type": "code",
   "execution_count": 38,
   "metadata": {},
   "outputs": [
    {
     "data": {
      "text/plain": [
       "0.7"
      ]
     },
     "execution_count": 38,
     "metadata": {},
     "output_type": "execute_result"
    }
   ],
   "source": [
    "precision_score(df[\"y\"], df[\"yp\"], pos_label= \"Sarah\")"
   ]
  },
  {
   "cell_type": "markdown",
   "metadata": {},
   "source": [
    "#### Balanced Accuracy"
   ]
  },
  {
   "cell_type": "code",
   "execution_count": 40,
   "metadata": {},
   "outputs": [
    {
     "data": {
      "text/plain": [
       "0.7"
      ]
     },
     "execution_count": 40,
     "metadata": {},
     "output_type": "execute_result"
    }
   ],
   "source": [
    "from sklearn.metrics import balanced_accuracy_score as bas\n",
    "bas(df[\"y\"], df[\"yp\"])"
   ]
  },
  {
   "cell_type": "markdown",
   "metadata": {},
   "source": [
    "#### F1 Score"
   ]
  },
  {
   "cell_type": "code",
   "execution_count": 41,
   "metadata": {},
   "outputs": [
    {
     "data": {
      "text/plain": [
       "0.7"
      ]
     },
     "execution_count": 41,
     "metadata": {},
     "output_type": "execute_result"
    }
   ],
   "source": [
    "from sklearn.metrics import f1_score\n",
    "f1_score(df[\"y\"], df[\"yp\"], pos_label= \"Zaenab\")"
   ]
  },
  {
   "cell_type": "markdown",
   "metadata": {},
   "source": [
    "____"
   ]
  },
  {
   "cell_type": "code",
   "execution_count": 42,
   "metadata": {},
   "outputs": [
    {
     "data": {
      "text/plain": [
       "(array([0.7, 0.7]), array([0.7, 0.7]), array([0.7, 0.7]), array([10, 10]))"
      ]
     },
     "execution_count": 42,
     "metadata": {},
     "output_type": "execute_result"
    }
   ],
   "source": [
    "from sklearn.metrics import precision_recall_fscore_support as rfs\n",
    "rfs(df[\"y\"], df[\"yp\"])"
   ]
  },
  {
   "cell_type": "code",
   "execution_count": 43,
   "metadata": {},
   "outputs": [
    {
     "data": {
      "text/plain": [
       "'              precision    recall  f1-score   support\\n\\n       Sarah       0.70      0.70      0.70        10\\n      Zaenab       0.70      0.70      0.70        10\\n\\n    accuracy                           0.70        20\\n   macro avg       0.70      0.70      0.70        20\\nweighted avg       0.70      0.70      0.70        20\\n'"
      ]
     },
     "execution_count": 43,
     "metadata": {},
     "output_type": "execute_result"
    }
   ],
   "source": [
    "from sklearn.metrics import classification_report\n",
    "classification_report(df[\"y\"], df[\"yp\"])"
   ]
  },
  {
   "cell_type": "code",
   "execution_count": 47,
   "metadata": {},
   "outputs": [
    {
     "name": "stdout",
     "output_type": "stream",
     "text": [
      "macro:  (0.7, 0.7, 0.7, None)\n",
      "micro:  (0.7, 0.7, 0.7, None)\n",
      "weighted:  (0.7, 0.7, 0.7, None)\n"
     ]
    }
   ],
   "source": [
    "print(\"macro: \", rfs(df[\"y\"], df[\"yp\"], average= \"macro\"))\n",
    "print(\"micro: \", rfs(df[\"y\"], df[\"yp\"], average= \"micro\"))\n",
    "print(\"weighted: \",rfs(df[\"y\"], df[\"yp\"], average= \"weighted\"))"
   ]
  },
  {
   "cell_type": "code",
   "execution_count": null,
   "metadata": {},
   "outputs": [],
   "source": []
  }
 ],
 "metadata": {
  "kernelspec": {
   "display_name": "Python 3",
   "language": "python",
   "name": "python3"
  },
  "language_info": {
   "codemirror_mode": {
    "name": "ipython",
    "version": 3
   },
   "file_extension": ".py",
   "mimetype": "text/x-python",
   "name": "python",
   "nbconvert_exporter": "python",
   "pygments_lexer": "ipython3",
   "version": "3.8.0"
  }
 },
 "nbformat": 4,
 "nbformat_minor": 4
}
