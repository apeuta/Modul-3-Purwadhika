{
 "cells": [
  {
   "cell_type": "markdown",
   "metadata": {},
   "source": [
    "# LaTeX on Markdown\n",
    "\n",
    "Using $\\LaTeX$ to write formulas on Markdown. It can be displayed inline, e.g. $e=mc^2$, or as a block:\n",
    "\n",
    "$$\\int_\\Omega \\nabla u \\cdot \\nabla v~dx = \\int_\\Omega fv~dx$$\n",
    "\n",
    "Docs: [LaTeX introduction](https://en.wikibooks.org/wiki/LaTeX/Mathematics)."
   ]
  },
  {
   "cell_type": "markdown",
   "metadata": {},
   "source": [
    "<hr>\n",
    "\n",
    "### 1. Symbols, Brackets & Delimiters\n",
    "\n",
    "- ```$\\sum$```\n",
    "\n",
    "    $\\sum$\n",
    "\n",
    "- ```$\\displaystyle \\sum$```\n",
    "\n",
    "    $\\displaystyle \\sum$\n",
    "\n",
    "- ```$ + - = ! / ( ) [ ] < > | ' : * $```\n",
    "\n",
    "    $\\displaystyle + \\quad - \\quad = \\quad ! \\quad / \\quad ( ) \\quad [ ] \\quad < > \\quad | \\quad ' \\quad : \\quad * $\n",
    "\n",
    "- ```$ w^2 \\hat{x} \\bar{y} z_{i} $```\n",
    "\n",
    "    $\\displaystyle w^2 \\quad \\hat{x} \\quad \\bar{y} \\quad z_{i} $\n",
    "\n",
    "- ```$\\forall x \\in X, \\quad \\exists y \\leq \\epsilon$```\n",
    "\n",
    "    $\\displaystyle \\forall x \\in X, \\quad \\exists y \\leq \\epsilon$\n",
    "\n",
    "- ```$\\alpha \\beta \\gamma \\Gamma \\pi \\Pi \\phi \\varphi \\mu \\Phi$```\n",
    "\n",
    "    $\\displaystyle \\alpha \\quad \\beta \\quad \\gamma \\quad \\Gamma \\quad \\pi \\quad \\Pi \\quad \\phi \\quad \\varphi \\quad \\mu \\quad \\Phi$\n",
    "    \n",
    "- ```$\\prod \\coprod \\bigoplus \\bigotimes \\bigodot$```\n",
    "\n",
    "    $\\displaystyle \\prod \\coprod \\bigoplus \\bigotimes \\bigodot$\n",
    "\n",
    "- ```$\\bigcup \\bigcap \\biguplus \\bigsqcup \\bigvee \\bigwedge$```\n",
    "\n",
    "    $\\displaystyle \\bigcup \\bigcap \\biguplus \\bigsqcup \\bigvee \\bigwedge$\n",
    "    \n",
    "- ```$\\int \\oint \\iint \\iiint \\iiiint \\idotsint$```\n",
    "\n",
    "    $\\displaystyle \\int \\oint \\iint \\iiint \\iiiint \\idotsint$\n",
    "    \n",
    "- ```$( a ) [ b ] \\{ c \\} | d |$```\n",
    "\n",
    "    $( a ) \\quad [ b ] \\quad \\{ c \\} \\quad | d |$"
   ]
  },
  {
   "cell_type": "markdown",
   "metadata": {},
   "source": [
    "<hr>\n",
    "\n",
    "### 2. Operators\n",
    "\n",
    "- ```$\\cos (2\\theta) = \\cos^2 \\theta - \\sin^2 \\theta$```\n",
    "\n",
    "    $\\displaystyle \\cos (2\\theta) = \\cos^2 \\theta - \\sin^2 \\theta$\n",
    "    \n",
    "- ```$\\lim\\limits_{x \\to \\infty} \\exp(-x) = 0$```\n",
    "\n",
    "    $\\displaystyle \\lim\\limits_{x \\to \\infty} \\exp(-x) = 0$\n",
    "    \n",
    "- ```$a \\bmod b$```\n",
    "\n",
    "    $\\displaystyle a \\bmod b$\n",
    "    \n",
    "- ```$x \\equiv a \\pmod{b}$```\n",
    "\n",
    "    $\\displaystyle x \\equiv a \\pmod{b}$"
   ]
  },
  {
   "cell_type": "markdown",
   "metadata": {},
   "source": [
    "<hr>\n",
    "\n",
    "### 3. Powers and indices\n",
    "\n",
    "- ```$n^{22}$```\n",
    "\n",
    "    $\\displaystyle n^{22}$\n",
    "    \n",
    "- ```$k_{n+1} = n^2 + k_n^2 - k_{n-1}$```\n",
    "\n",
    "    $\\displaystyle k_{n+1} = n^2 + k_n^2 - k_{n-1}$\n",
    "    \n",
    "- ```$f(n) = n^5 + 4n^2 + 2 |_{n=17}$```\n",
    "\n",
    "    $\\displaystyle f(n) = n^5 + 4n^2 + 2 |_{n=17}$"
   ]
  },
  {
   "cell_type": "markdown",
   "metadata": {},
   "source": [
    "<hr>\n",
    "\n",
    "### 4. Fractions and Binomials\n",
    "\n",
    "- ```$\\frac{n!}{k!(n-k)!} = \\binom{n}{k}$```\n",
    "\n",
    "    $\\displaystyle \\frac{n!}{k!(n-k)!} = \\binom{n}{k}$\n",
    "    \n",
    "- ```$\\frac{\\frac{1}{x}+\\frac{1}{y}}{y-z}$```\n",
    "\n",
    "    $\\displaystyle \\frac{\\frac{1}{x}+\\frac{1}{y}}{y-z}$\n",
    "    \n",
    "- ```$^3/_7$```\n",
    "\n",
    "    $\\displaystyle ^3/_7$"
   ]
  },
  {
   "cell_type": "markdown",
   "metadata": {},
   "source": [
    "<hr>\n",
    "\n",
    "### 5. Roots\n",
    "\n",
    "- ```$\\sqrt{\\frac{a}{b}}$```\n",
    "\n",
    "    $\\displaystyle \\sqrt{\\frac{a}{b}}$\n",
    "    \n",
    "- ```$\\sqrt[n]{1+x+x^2+x^3+\\dots+x^n}$```\n",
    "\n",
    "    $\\displaystyle \\sqrt[n]{1+x+x^2+x^3+\\dots+x^n}$"
   ]
  },
  {
   "cell_type": "markdown",
   "metadata": {},
   "source": [
    "<hr>\n",
    "\n",
    "### 6. Sums and integrals\n",
    "\n",
    "- ```$\\sum_{i=1}^{10} t_i$```\n",
    "\n",
    "    $\\displaystyle \\sum_{i=1}^{10} t_i$\n",
    "    \n",
    "- ```$\\displaystyle\\sum_{i=1}^{10} t_i$```\n",
    "\n",
    "    $\\displaystyle\\sum_{i=1}^{10} t_i$\n",
    "\n",
    "- ```$\\int_0^\\infty \\mathrm{e}^{-x}\\,\\mathrm{d}x$```\n",
    "\n",
    "    $\\displaystyle \\int_0^\\infty \\mathrm{e}^{-x}\\,\\mathrm{d}x$\n",
    "    \n",
    "- ```$\\int\\limits_a^b$```\n",
    "\n",
    "    $\\displaystyle \\int\\limits_a^b$"
   ]
  },
  {
   "cell_type": "markdown",
   "metadata": {},
   "source": [
    "<hr>\n",
    "\n",
    "### 7. Matrices and arrays\n",
    "\n",
    "- ```$\\left| \\begin{matrix}a & b & c \\\\d & e & f \\\\g & h & i\\end{matrix} \\right|$```\n",
    "\n",
    "    $\\displaystyle \\left| \\begin{matrix}a & b & c \\\\d & e & f \\\\g & h & i\\end{matrix} \\right|$"
   ]
  },
  {
   "cell_type": "markdown",
   "metadata": {},
   "source": [
    "<hr>\n",
    "\n",
    "![simplinnovation](https://4.bp.blogspot.com/-f7YxPyqHAzY/WJ6VnkvE0SI/AAAAAAAADTQ/0tDQPTrVrtMAFT-q-1-3ktUQT5Il9FGdQCLcB/s350/simpLINnovation1a.png)\n",
    "\n",
    "#### Lintang Wisesa :love_letter: _lintangwisesa@ymail.com_\n",
    "\n",
    "[Facebook](https://www.facebook.com/lintangbagus) | \n",
    "[Twitter](https://twitter.com/Lintang_Wisesa) |\n",
    "[LinkedIn](https://www.linkedin.com/in/lintangwisesa/) |\n",
    "[Youtube](https://www.youtube.com/user/lintangbagus) | \n",
    ":octocat: [GitHub](https://github.com/LintangWisesa) |\n",
    "[Hackster](https://www.hackster.io/lintangwisesa)"
   ]
  }
 ],
 "metadata": {
  "kernelspec": {
   "display_name": "Python 3",
   "language": "python",
   "name": "python3"
  },
  "language_info": {
   "codemirror_mode": {
    "name": "ipython",
    "version": 3
   },
   "file_extension": ".py",
   "mimetype": "text/x-python",
   "name": "python",
   "nbconvert_exporter": "python",
   "pygments_lexer": "ipython3",
   "version": "3.8.0"
  }
 },
 "nbformat": 4,
 "nbformat_minor": 4
}
