{
 "cells": [
  {
   "cell_type": "code",
   "execution_count": 3,
   "metadata": {},
   "outputs": [],
   "source": [
    "import pandas as pd\n",
    "import numpy as np\n",
    "import matplotlib.pyplot as plt\n",
    "from sklearn.linear_model import LinearRegression\n",
    "from sklearn.model_selection import train_test_split as tts"
   ]
  },
  {
   "cell_type": "code",
   "execution_count": 22,
   "metadata": {},
   "outputs": [
    {
     "data": {
      "text/html": [
       "<div>\n",
       "<style scoped>\n",
       "    .dataframe tbody tr th:only-of-type {\n",
       "        vertical-align: middle;\n",
       "    }\n",
       "\n",
       "    .dataframe tbody tr th {\n",
       "        vertical-align: top;\n",
       "    }\n",
       "\n",
       "    .dataframe thead th {\n",
       "        text-align: right;\n",
       "    }\n",
       "</style>\n",
       "<table border=\"1\" class=\"dataframe\">\n",
       "  <thead>\n",
       "    <tr style=\"text-align: right;\">\n",
       "      <th></th>\n",
       "      <th>x</th>\n",
       "      <th>y</th>\n",
       "      <th>x2</th>\n",
       "      <th>x3</th>\n",
       "    </tr>\n",
       "  </thead>\n",
       "  <tbody>\n",
       "    <tr>\n",
       "      <th>0</th>\n",
       "      <td>0.000000</td>\n",
       "      <td>0.000000</td>\n",
       "      <td>0.000000</td>\n",
       "      <td>0.000000</td>\n",
       "    </tr>\n",
       "    <tr>\n",
       "      <th>1</th>\n",
       "      <td>0.174533</td>\n",
       "      <td>0.173648</td>\n",
       "      <td>0.030462</td>\n",
       "      <td>0.005317</td>\n",
       "    </tr>\n",
       "    <tr>\n",
       "      <th>2</th>\n",
       "      <td>0.349066</td>\n",
       "      <td>0.342020</td>\n",
       "      <td>0.121847</td>\n",
       "      <td>0.042533</td>\n",
       "    </tr>\n",
       "    <tr>\n",
       "      <th>3</th>\n",
       "      <td>0.523599</td>\n",
       "      <td>0.500000</td>\n",
       "      <td>0.274156</td>\n",
       "      <td>0.143548</td>\n",
       "    </tr>\n",
       "    <tr>\n",
       "      <th>4</th>\n",
       "      <td>0.698132</td>\n",
       "      <td>0.642788</td>\n",
       "      <td>0.487388</td>\n",
       "      <td>0.340261</td>\n",
       "    </tr>\n",
       "  </tbody>\n",
       "</table>\n",
       "</div>"
      ],
      "text/plain": [
       "          x         y        x2        x3\n",
       "0  0.000000  0.000000  0.000000  0.000000\n",
       "1  0.174533  0.173648  0.030462  0.005317\n",
       "2  0.349066  0.342020  0.121847  0.042533\n",
       "3  0.523599  0.500000  0.274156  0.143548\n",
       "4  0.698132  0.642788  0.487388  0.340261"
      ]
     },
     "execution_count": 22,
     "metadata": {},
     "output_type": "execute_result"
    }
   ],
   "source": [
    "x = np.array([i * np.pi/180 for i in range(0, 360, 10)])\n",
    "y = np.sin(x)\n",
    "\n",
    "df = pd.DataFrame({\n",
    "    \"x\": x, \"y\":y, \"x2\" : x**2, \"x3\": x**3\n",
    "})\n",
    "df.head()"
   ]
  },
  {
   "cell_type": "code",
   "execution_count": 23,
   "metadata": {},
   "outputs": [
    {
     "data": {
      "text/plain": [
       "[<matplotlib.lines.Line2D at 0x11ef24370>]"
      ]
     },
     "execution_count": 23,
     "metadata": {},
     "output_type": "execute_result"
    },
    {
     "data": {
      "image/png": "[encoded data removed]",
      "text/plain": [
       "<Figure size 432x288 with 1 Axes>"
      ]
     },
     "metadata": {
      "needs_background": "light"
     },
     "output_type": "display_data"
    }
   ],
   "source": [
    "plt.plot(df[\"x\"], df[\"y\"], \"o\")"
   ]
  },
  {
   "cell_type": "code",
   "execution_count": 24,
   "metadata": {},
   "outputs": [],
   "source": [
    "from sklearn.linear_model import LinearRegression\n",
    "from sklearn.linear_model import Ridge\n",
    "from sklearn.linear_model import Lasso\n",
    "from sklearn.linear_model import ElasticNet"
   ]
  },
  {
   "cell_type": "code",
   "execution_count": 25,
   "metadata": {},
   "outputs": [],
   "source": [
    "modelA = LinearRegression()\n",
    "modelB = Ridge()\n",
    "modelC = Lasso()\n",
    "modelD = ElasticNet()"
   ]
  },
  {
   "cell_type": "code",
   "execution_count": 18,
   "metadata": {},
   "outputs": [
    {
     "data": {
      "text/html": [
       "<div>\n",
       "<style scoped>\n",
       "    .dataframe tbody tr th:only-of-type {\n",
       "        vertical-align: middle;\n",
       "    }\n",
       "\n",
       "    .dataframe tbody tr th {\n",
       "        vertical-align: top;\n",
       "    }\n",
       "\n",
       "    .dataframe thead th {\n",
       "        text-align: right;\n",
       "    }\n",
       "</style>\n",
       "<table border=\"1\" class=\"dataframe\">\n",
       "  <thead>\n",
       "    <tr style=\"text-align: right;\">\n",
       "      <th></th>\n",
       "      <th>x</th>\n",
       "      <th>y</th>\n",
       "      <th>y'A</th>\n",
       "      <th>y'B</th>\n",
       "      <th>y'C</th>\n",
       "      <th>y'D</th>\n",
       "    </tr>\n",
       "  </thead>\n",
       "  <tbody>\n",
       "    <tr>\n",
       "      <th>0</th>\n",
       "      <td>0.000000</td>\n",
       "      <td>0.000000</td>\n",
       "      <td>0.926761</td>\n",
       "      <td>0.918996</td>\n",
       "      <td>-1.156482e-17</td>\n",
       "      <td>0.401181</td>\n",
       "    </tr>\n",
       "    <tr>\n",
       "      <th>1</th>\n",
       "      <td>0.174533</td>\n",
       "      <td>0.173648</td>\n",
       "      <td>0.873803</td>\n",
       "      <td>0.866481</td>\n",
       "      <td>-1.156482e-17</td>\n",
       "      <td>0.378257</td>\n",
       "    </tr>\n",
       "    <tr>\n",
       "      <th>2</th>\n",
       "      <td>0.349066</td>\n",
       "      <td>0.342020</td>\n",
       "      <td>0.820845</td>\n",
       "      <td>0.813967</td>\n",
       "      <td>-1.156482e-17</td>\n",
       "      <td>0.355332</td>\n",
       "    </tr>\n",
       "    <tr>\n",
       "      <th>3</th>\n",
       "      <td>0.523599</td>\n",
       "      <td>0.500000</td>\n",
       "      <td>0.767888</td>\n",
       "      <td>0.761453</td>\n",
       "      <td>-1.156482e-17</td>\n",
       "      <td>0.332407</td>\n",
       "    </tr>\n",
       "    <tr>\n",
       "      <th>4</th>\n",
       "      <td>0.698132</td>\n",
       "      <td>0.642788</td>\n",
       "      <td>0.714930</td>\n",
       "      <td>0.708939</td>\n",
       "      <td>-1.156482e-17</td>\n",
       "      <td>0.309483</td>\n",
       "    </tr>\n",
       "  </tbody>\n",
       "</table>\n",
       "</div>"
      ],
      "text/plain": [
       "          x         y       y'A       y'B           y'C       y'D\n",
       "0  0.000000  0.000000  0.926761  0.918996 -1.156482e-17  0.401181\n",
       "1  0.174533  0.173648  0.873803  0.866481 -1.156482e-17  0.378257\n",
       "2  0.349066  0.342020  0.820845  0.813967 -1.156482e-17  0.355332\n",
       "3  0.523599  0.500000  0.767888  0.761453 -1.156482e-17  0.332407\n",
       "4  0.698132  0.642788  0.714930  0.708939 -1.156482e-17  0.309483"
      ]
     },
     "execution_count": 18,
     "metadata": {},
     "output_type": "execute_result"
    }
   ],
   "source": [
    "modelA.fit(df[[\"x\"]], df[\"y\"])\n",
    "modelB.fit(df[[\"x\"]], df[\"y\"])\n",
    "modelC.fit(df[[\"x\"]], df[\"y\"])\n",
    "modelD.fit(df[[\"x\"]], df[\"y\"])\n",
    "\n",
    "df[\"y'A\"] = modelA.predict(df[[\"x\"]])\n",
    "df[\"y'B\"] = modelB.predict(df[[\"x\"]])\n",
    "df[\"y'C\"] = modelC.predict(df[[\"x\"]])\n",
    "df[\"y'D\"] = modelD.predict(df[[\"x\"]])\n",
    "df.head()"
   ]
  },
  {
   "cell_type": "code",
   "execution_count": 21,
   "metadata": {},
   "outputs": [
    {
     "data": {
      "text/plain": [
       "[<matplotlib.lines.Line2D at 0x11f018a00>]"
      ]
     },
     "execution_count": 21,
     "metadata": {},
     "output_type": "execute_result"
    },
    {
     "data": {
      "image/png": "[encoded data removed]",
      "text/plain": [
       "<Figure size 432x288 with 1 Axes>"
      ]
     },
     "metadata": {
      "needs_background": "light"
     },
     "output_type": "display_data"
    }
   ],
   "source": [
    "plt.plot(df[\"x\"], df[\"y\"], \"k.\")\n",
    "plt.plot(df[\"x\"], df[\"y'A\"], \"c-\")\n",
    "plt.plot(df[\"x\"], df[\"y'B\"], \"m-\")\n",
    "plt.plot(df[\"x\"], df[\"y'C\"], \"y-\")\n",
    "plt.plot(df[\"x\"], df[\"y'D\"], \"g-\")"
   ]
  },
  {
   "cell_type": "markdown",
   "metadata": {},
   "source": [
    "____"
   ]
  },
  {
   "cell_type": "code",
   "execution_count": 32,
   "metadata": {},
   "outputs": [
    {
     "data": {
      "text/html": [
       "<div>\n",
       "<style scoped>\n",
       "    .dataframe tbody tr th:only-of-type {\n",
       "        vertical-align: middle;\n",
       "    }\n",
       "\n",
       "    .dataframe tbody tr th {\n",
       "        vertical-align: top;\n",
       "    }\n",
       "\n",
       "    .dataframe thead th {\n",
       "        text-align: right;\n",
       "    }\n",
       "</style>\n",
       "<table border=\"1\" class=\"dataframe\">\n",
       "  <thead>\n",
       "    <tr style=\"text-align: right;\">\n",
       "      <th></th>\n",
       "      <th>xx</th>\n",
       "      <th>yy</th>\n",
       "      <th>xx2</th>\n",
       "      <th>xx3</th>\n",
       "      <th>xx4</th>\n",
       "      <th>xx5</th>\n",
       "      <th>xx6</th>\n",
       "      <th>xx7</th>\n",
       "      <th>xx8</th>\n",
       "      <th>xx9</th>\n",
       "      <th>xx10</th>\n",
       "    </tr>\n",
       "  </thead>\n",
       "  <tbody>\n",
       "    <tr>\n",
       "      <th>0</th>\n",
       "      <td>0.000000</td>\n",
       "      <td>0.000000</td>\n",
       "      <td>0.000000</td>\n",
       "      <td>0.000000</td>\n",
       "      <td>0.000000</td>\n",
       "      <td>0.000000</td>\n",
       "      <td>0.000000</td>\n",
       "      <td>0.000000</td>\n",
       "      <td>0.000000e+00</td>\n",
       "      <td>0.000000e+00</td>\n",
       "      <td>0.000000e+00</td>\n",
       "    </tr>\n",
       "    <tr>\n",
       "      <th>1</th>\n",
       "      <td>0.174533</td>\n",
       "      <td>0.173648</td>\n",
       "      <td>0.030462</td>\n",
       "      <td>0.005317</td>\n",
       "      <td>0.000928</td>\n",
       "      <td>0.000162</td>\n",
       "      <td>0.000028</td>\n",
       "      <td>0.000005</td>\n",
       "      <td>8.610313e-07</td>\n",
       "      <td>1.502783e-07</td>\n",
       "      <td>2.622851e-08</td>\n",
       "    </tr>\n",
       "    <tr>\n",
       "      <th>2</th>\n",
       "      <td>0.349066</td>\n",
       "      <td>0.342020</td>\n",
       "      <td>0.121847</td>\n",
       "      <td>0.042533</td>\n",
       "      <td>0.014847</td>\n",
       "      <td>0.005182</td>\n",
       "      <td>0.001809</td>\n",
       "      <td>0.000631</td>\n",
       "      <td>2.204240e-04</td>\n",
       "      <td>7.694250e-05</td>\n",
       "      <td>2.685800e-05</td>\n",
       "    </tr>\n",
       "    <tr>\n",
       "      <th>3</th>\n",
       "      <td>0.523599</td>\n",
       "      <td>0.500000</td>\n",
       "      <td>0.274156</td>\n",
       "      <td>0.143548</td>\n",
       "      <td>0.075161</td>\n",
       "      <td>0.039354</td>\n",
       "      <td>0.020606</td>\n",
       "      <td>0.010789</td>\n",
       "      <td>5.649226e-03</td>\n",
       "      <td>2.957928e-03</td>\n",
       "      <td>1.548767e-03</td>\n",
       "    </tr>\n",
       "    <tr>\n",
       "      <th>4</th>\n",
       "      <td>0.698132</td>\n",
       "      <td>0.642788</td>\n",
       "      <td>0.487388</td>\n",
       "      <td>0.340261</td>\n",
       "      <td>0.237547</td>\n",
       "      <td>0.165839</td>\n",
       "      <td>0.115777</td>\n",
       "      <td>0.080828</td>\n",
       "      <td>5.642855e-02</td>\n",
       "      <td>3.939456e-02</td>\n",
       "      <td>2.750259e-02</td>\n",
       "    </tr>\n",
       "  </tbody>\n",
       "</table>\n",
       "</div>"
      ],
      "text/plain": [
       "         xx        yy       xx2       xx3       xx4       xx5       xx6  \\\n",
       "0  0.000000  0.000000  0.000000  0.000000  0.000000  0.000000  0.000000   \n",
       "1  0.174533  0.173648  0.030462  0.005317  0.000928  0.000162  0.000028   \n",
       "2  0.349066  0.342020  0.121847  0.042533  0.014847  0.005182  0.001809   \n",
       "3  0.523599  0.500000  0.274156  0.143548  0.075161  0.039354  0.020606   \n",
       "4  0.698132  0.642788  0.487388  0.340261  0.237547  0.165839  0.115777   \n",
       "\n",
       "        xx7           xx8           xx9          xx10  \n",
       "0  0.000000  0.000000e+00  0.000000e+00  0.000000e+00  \n",
       "1  0.000005  8.610313e-07  1.502783e-07  2.622851e-08  \n",
       "2  0.000631  2.204240e-04  7.694250e-05  2.685800e-05  \n",
       "3  0.010789  5.649226e-03  2.957928e-03  1.548767e-03  \n",
       "4  0.080828  5.642855e-02  3.939456e-02  2.750259e-02  "
      ]
     },
     "execution_count": 32,
     "metadata": {},
     "output_type": "execute_result"
    }
   ],
   "source": [
    "xx = np.array([i * np.pi/180 for i in range(0, 720, 10)])\n",
    "yy = np.sin(x)\n",
    "\n",
    "df = pd.DataFrame({\n",
    "    \"xx\": x, \"yy\":y\n",
    "})\n",
    "for i in range(2,11):\n",
    "    df[f\"xx{i}\"] = df[\"xx\"] ** i\n",
    "df.head()"
   ]
  },
  {
   "cell_type": "code",
   "execution_count": 28,
   "metadata": {},
   "outputs": [],
   "source": [
    "modelAA = LinearRegression()\n",
    "modelBB = Ridge()\n",
    "modelCC = Lasso()\n",
    "modelDD = ElasticNet()"
   ]
  },
  {
   "cell_type": "code",
   "execution_count": 37,
   "metadata": {},
   "outputs": [
    {
     "name": "stderr",
     "output_type": "stream",
     "text": [
      "/Library/Frameworks/Python.framework/Versions/3.8/lib/python3.8/site-packages/sklearn/linear_model/_ridge.py:147: LinAlgWarning: Ill-conditioned matrix (rcond=5.92252e-17): result may not be accurate.\n",
      "  return linalg.solve(A, Xy, sym_pos=True,\n",
      "/Library/Frameworks/Python.framework/Versions/3.8/lib/python3.8/site-packages/sklearn/linear_model/_coordinate_descent.py:474: ConvergenceWarning: Objective did not converge. You might want to increase the number of iterations. Duality gap: 1.3741094598448766, tolerance: 0.0018000000000000002\n",
      "  model = cd_fast.enet_coordinate_descent(\n",
      "/Library/Frameworks/Python.framework/Versions/3.8/lib/python3.8/site-packages/sklearn/linear_model/_coordinate_descent.py:474: ConvergenceWarning: Objective did not converge. You might want to increase the number of iterations. Duality gap: 1.2204278467880927, tolerance: 0.0018000000000000002\n",
      "  model = cd_fast.enet_coordinate_descent(\n"
     ]
    },
    {
     "data": {
      "text/html": [
       "<div>\n",
       "<style scoped>\n",
       "    .dataframe tbody tr th:only-of-type {\n",
       "        vertical-align: middle;\n",
       "    }\n",
       "\n",
       "    .dataframe tbody tr th {\n",
       "        vertical-align: top;\n",
       "    }\n",
       "\n",
       "    .dataframe thead th {\n",
       "        text-align: right;\n",
       "    }\n",
       "</style>\n",
       "<table border=\"1\" class=\"dataframe\">\n",
       "  <thead>\n",
       "    <tr style=\"text-align: right;\">\n",
       "      <th></th>\n",
       "      <th>xx</th>\n",
       "      <th>yy</th>\n",
       "      <th>xx2</th>\n",
       "      <th>xx3</th>\n",
       "      <th>xx4</th>\n",
       "      <th>xx5</th>\n",
       "      <th>xx6</th>\n",
       "      <th>xx7</th>\n",
       "      <th>xx8</th>\n",
       "      <th>xx9</th>\n",
       "      <th>xx10</th>\n",
       "      <th>yy'AA</th>\n",
       "      <th>yy'BB</th>\n",
       "      <th>yy'CC</th>\n",
       "      <th>yy'DD</th>\n",
       "      <th>yy'A</th>\n",
       "      <th>yy'B</th>\n",
       "      <th>yy'C</th>\n",
       "      <th>yy'D</th>\n",
       "    </tr>\n",
       "  </thead>\n",
       "  <tbody>\n",
       "    <tr>\n",
       "      <th>0</th>\n",
       "      <td>0.000000</td>\n",
       "      <td>0.000000</td>\n",
       "      <td>0.000000</td>\n",
       "      <td>0.000000</td>\n",
       "      <td>0.000000</td>\n",
       "      <td>0.000000</td>\n",
       "      <td>0.000000</td>\n",
       "      <td>0.000000</td>\n",
       "      <td>0.000000e+00</td>\n",
       "      <td>0.000000e+00</td>\n",
       "      <td>0.000000e+00</td>\n",
       "      <td>0.000002</td>\n",
       "      <td>0.247162</td>\n",
       "      <td>0.725115</td>\n",
       "      <td>0.718690</td>\n",
       "      <td>0.000002</td>\n",
       "      <td>0.247162</td>\n",
       "      <td>0.725115</td>\n",
       "      <td>0.718690</td>\n",
       "    </tr>\n",
       "    <tr>\n",
       "      <th>1</th>\n",
       "      <td>0.174533</td>\n",
       "      <td>0.173648</td>\n",
       "      <td>0.030462</td>\n",
       "      <td>0.005317</td>\n",
       "      <td>0.000928</td>\n",
       "      <td>0.000162</td>\n",
       "      <td>0.000028</td>\n",
       "      <td>0.000005</td>\n",
       "      <td>8.610313e-07</td>\n",
       "      <td>1.502783e-07</td>\n",
       "      <td>2.622851e-08</td>\n",
       "      <td>0.173642</td>\n",
       "      <td>0.305302</td>\n",
       "      <td>0.725105</td>\n",
       "      <td>0.718677</td>\n",
       "      <td>0.173642</td>\n",
       "      <td>0.305302</td>\n",
       "      <td>0.725105</td>\n",
       "      <td>0.718677</td>\n",
       "    </tr>\n",
       "    <tr>\n",
       "      <th>2</th>\n",
       "      <td>0.349066</td>\n",
       "      <td>0.342020</td>\n",
       "      <td>0.121847</td>\n",
       "      <td>0.042533</td>\n",
       "      <td>0.014847</td>\n",
       "      <td>0.005182</td>\n",
       "      <td>0.001809</td>\n",
       "      <td>0.000631</td>\n",
       "      <td>2.204240e-04</td>\n",
       "      <td>7.694250e-05</td>\n",
       "      <td>2.685800e-05</td>\n",
       "      <td>0.342022</td>\n",
       "      <td>0.377654</td>\n",
       "      <td>0.724962</td>\n",
       "      <td>0.718512</td>\n",
       "      <td>0.342022</td>\n",
       "      <td>0.377654</td>\n",
       "      <td>0.724962</td>\n",
       "      <td>0.718512</td>\n",
       "    </tr>\n",
       "    <tr>\n",
       "      <th>3</th>\n",
       "      <td>0.523599</td>\n",
       "      <td>0.500000</td>\n",
       "      <td>0.274156</td>\n",
       "      <td>0.143548</td>\n",
       "      <td>0.075161</td>\n",
       "      <td>0.039354</td>\n",
       "      <td>0.020606</td>\n",
       "      <td>0.010789</td>\n",
       "      <td>5.649226e-03</td>\n",
       "      <td>2.957928e-03</td>\n",
       "      <td>1.548767e-03</td>\n",
       "      <td>0.500005</td>\n",
       "      <td>0.463545</td>\n",
       "      <td>0.724346</td>\n",
       "      <td>0.717841</td>\n",
       "      <td>0.500005</td>\n",
       "      <td>0.463545</td>\n",
       "      <td>0.724346</td>\n",
       "      <td>0.717841</td>\n",
       "    </tr>\n",
       "    <tr>\n",
       "      <th>4</th>\n",
       "      <td>0.698132</td>\n",
       "      <td>0.642788</td>\n",
       "      <td>0.487388</td>\n",
       "      <td>0.340261</td>\n",
       "      <td>0.237547</td>\n",
       "      <td>0.165839</td>\n",
       "      <td>0.115777</td>\n",
       "      <td>0.080828</td>\n",
       "      <td>5.642855e-02</td>\n",
       "      <td>3.939456e-02</td>\n",
       "      <td>2.750259e-02</td>\n",
       "      <td>0.642790</td>\n",
       "      <td>0.559840</td>\n",
       "      <td>0.722711</td>\n",
       "      <td>0.716107</td>\n",
       "      <td>0.642790</td>\n",
       "      <td>0.559840</td>\n",
       "      <td>0.722711</td>\n",
       "      <td>0.716107</td>\n",
       "    </tr>\n",
       "  </tbody>\n",
       "</table>\n",
       "</div>"
      ],
      "text/plain": [
       "         xx        yy       xx2       xx3       xx4       xx5       xx6  \\\n",
       "0  0.000000  0.000000  0.000000  0.000000  0.000000  0.000000  0.000000   \n",
       "1  0.174533  0.173648  0.030462  0.005317  0.000928  0.000162  0.000028   \n",
       "2  0.349066  0.342020  0.121847  0.042533  0.014847  0.005182  0.001809   \n",
       "3  0.523599  0.500000  0.274156  0.143548  0.075161  0.039354  0.020606   \n",
       "4  0.698132  0.642788  0.487388  0.340261  0.237547  0.165839  0.115777   \n",
       "\n",
       "        xx7           xx8           xx9          xx10     yy'AA     yy'BB  \\\n",
       "0  0.000000  0.000000e+00  0.000000e+00  0.000000e+00  0.000002  0.247162   \n",
       "1  0.000005  8.610313e-07  1.502783e-07  2.622851e-08  0.173642  0.305302   \n",
       "2  0.000631  2.204240e-04  7.694250e-05  2.685800e-05  0.342022  0.377654   \n",
       "3  0.010789  5.649226e-03  2.957928e-03  1.548767e-03  0.500005  0.463545   \n",
       "4  0.080828  5.642855e-02  3.939456e-02  2.750259e-02  0.642790  0.559840   \n",
       "\n",
       "      yy'CC     yy'DD      yy'A      yy'B      yy'C      yy'D  \n",
       "0  0.725115  0.718690  0.000002  0.247162  0.725115  0.718690  \n",
       "1  0.725105  0.718677  0.173642  0.305302  0.725105  0.718677  \n",
       "2  0.724962  0.718512  0.342022  0.377654  0.724962  0.718512  \n",
       "3  0.724346  0.717841  0.500005  0.463545  0.724346  0.717841  \n",
       "4  0.722711  0.716107  0.642790  0.559840  0.722711  0.716107  "
      ]
     },
     "execution_count": 37,
     "metadata": {},
     "output_type": "execute_result"
    }
   ],
   "source": [
    "xn = [\"xx\"]\n",
    "xn.extend([\"xx%d\" %i for i in range(2,11)])\n",
    "modelAA.fit(df[xn], df[\"yy\"])\n",
    "modelBB.fit(df[xn], df[\"yy\"])\n",
    "modelCC.fit(df[xn], df[\"yy\"])\n",
    "modelDD.fit(df[xn], df[\"yy\"])\n",
    "\n",
    "df[\"yy'A\"] = modelAA.predict(df[xn])\n",
    "df[\"yy'B\"] = modelBB.predict(df[xn])\n",
    "df[\"yy'C\"] = modelCC.predict(df[xn])\n",
    "df[\"yy'D\"] = modelDD.predict(df[xn])\n",
    "df.head()"
   ]
  },
  {
   "cell_type": "code",
   "execution_count": 38,
   "metadata": {},
   "outputs": [
    {
     "data": {
      "text/plain": [
       "[<matplotlib.lines.Line2D at 0x121320430>]"
      ]
     },
     "execution_count": 38,
     "metadata": {},
     "output_type": "execute_result"
    },
    {
     "data": {
      "image/png": "[encoded data removed]",
      "text/plain": [
       "<Figure size 432x288 with 1 Axes>"
      ]
     },
     "metadata": {
      "needs_background": "light"
     },
     "output_type": "display_data"
    }
   ],
   "source": [
    "plt.plot(df[\"xx\"], df[\"yy\"], \"k.\")\n",
    "plt.plot(df[\"xx\"], df[\"yy'A\"], \"c-\")\n",
    "plt.plot(df[\"xx\"], df[\"yy'B\"], \"m-\")\n",
    "plt.plot(df[\"xx\"], df[\"yy'C\"], \"y-\")\n",
    "plt.plot(df[\"xx\"], df[\"yy'D\"], \"g-\")"
   ]
  },
  {
   "cell_type": "code",
   "execution_count": null,
   "metadata": {},
   "outputs": [],
   "source": []
  }
 ],
 "metadata": {
  "kernelspec": {
   "display_name": "Python 3",
   "language": "python",
   "name": "python3"
  },
  "language_info": {
   "codemirror_mode": {
    "name": "ipython",
    "version": 3
   },
   "file_extension": ".py",
   "mimetype": "text/x-python",
   "name": "python",
   "nbconvert_exporter": "python",
   "pygments_lexer": "ipython3",
   "version": "3.8.0"
  }
 },
 "nbformat": 4,
 "nbformat_minor": 4
}
