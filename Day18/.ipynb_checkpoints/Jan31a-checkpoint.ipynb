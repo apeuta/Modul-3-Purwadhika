{
 "cells": [
  {
   "cell_type": "markdown",
   "metadata": {},
   "source": [
    "## Decision Trees"
   ]
  },
  {
   "cell_type": "code",
   "execution_count": 1,
   "metadata": {},
   "outputs": [],
   "source": [
    "import numpy as np\n",
    "import pandas as pd\n",
    "import matplotlib.pyplot as plt"
   ]
  },
  {
   "cell_type": "code",
   "execution_count": 4,
   "metadata": {},
   "outputs": [],
   "source": [
    "df = pd.DataFrame({\n",
    "    \"sarjana\": [0,0,0,1,1,1],\n",
    "    \"diterima\" : [0,0,1,0,1,1]\n",
    "})"
   ]
  },
  {
   "cell_type": "markdown",
   "metadata": {},
   "source": [
    "Root Node : Starting question <br>\n",
    "Internal Node : Question branch <br>\n",
    "Leaves : Conclusion"
   ]
  },
  {
   "cell_type": "code",
   "execution_count": 5,
   "metadata": {},
   "outputs": [
    {
     "data": {
      "text/html": [
       "<div>\n",
       "<style scoped>\n",
       "    .dataframe tbody tr th:only-of-type {\n",
       "        vertical-align: middle;\n",
       "    }\n",
       "\n",
       "    .dataframe tbody tr th {\n",
       "        vertical-align: top;\n",
       "    }\n",
       "\n",
       "    .dataframe thead th {\n",
       "        text-align: right;\n",
       "    }\n",
       "</style>\n",
       "<table border=\"1\" class=\"dataframe\">\n",
       "  <thead>\n",
       "    <tr style=\"text-align: right;\">\n",
       "      <th></th>\n",
       "      <th>sarjana</th>\n",
       "      <th>diterima</th>\n",
       "    </tr>\n",
       "  </thead>\n",
       "  <tbody>\n",
       "    <tr>\n",
       "      <th>0</th>\n",
       "      <td>0</td>\n",
       "      <td>0</td>\n",
       "    </tr>\n",
       "    <tr>\n",
       "      <th>1</th>\n",
       "      <td>0</td>\n",
       "      <td>0</td>\n",
       "    </tr>\n",
       "    <tr>\n",
       "      <th>2</th>\n",
       "      <td>0</td>\n",
       "      <td>1</td>\n",
       "    </tr>\n",
       "    <tr>\n",
       "      <th>3</th>\n",
       "      <td>1</td>\n",
       "      <td>0</td>\n",
       "    </tr>\n",
       "    <tr>\n",
       "      <th>4</th>\n",
       "      <td>1</td>\n",
       "      <td>1</td>\n",
       "    </tr>\n",
       "    <tr>\n",
       "      <th>5</th>\n",
       "      <td>1</td>\n",
       "      <td>1</td>\n",
       "    </tr>\n",
       "  </tbody>\n",
       "</table>\n",
       "</div>"
      ],
      "text/plain": [
       "   sarjana  diterima\n",
       "0        0         0\n",
       "1        0         0\n",
       "2        0         1\n",
       "3        1         0\n",
       "4        1         1\n",
       "5        1         1"
      ]
     },
     "execution_count": 5,
     "metadata": {},
     "output_type": "execute_result"
    }
   ],
   "source": [
    "df"
   ]
  },
  {
   "cell_type": "markdown",
   "metadata": {},
   "source": [
    "<hr>"
   ]
  },
  {
   "cell_type": "markdown",
   "metadata": {},
   "source": [
    "### Gini Impurity\n",
    "\n",
    "- Count gini for each leaf in every feature: gini __S1True__ & __S1 False__\n",
    "- Gini = 1 -  (probability TRUE) $^2$ - (probability FALSE) $^2$\n",
    "- Count Total Gini for each feature : __giniS1__"
   ]
  },
  {
   "cell_type": "code",
   "execution_count": 8,
   "metadata": {},
   "outputs": [
    {
     "data": {
      "text/plain": [
       "(0.4444444444444445, 0.4444444444444444)"
      ]
     },
     "execution_count": 8,
     "metadata": {},
     "output_type": "execute_result"
    }
   ],
   "source": [
    "giniS1True = 1 - (2/3)**2 - (1/3)**2\n",
    "giniS1False = 1 - (1/3)**2 - (2/3)**2\n",
    "giniS1True, giniS1False"
   ]
  },
  {
   "cell_type": "code",
   "execution_count": 10,
   "metadata": {},
   "outputs": [
    {
     "data": {
      "text/plain": [
       "0.4444444444444444"
      ]
     },
     "execution_count": 10,
     "metadata": {},
     "output_type": "execute_result"
    }
   ],
   "source": [
    "giniS1 = giniS1True * (3/6) + giniS1False * (3/6)\n",
    "giniS1"
   ]
  },
  {
   "cell_type": "code",
   "execution_count": 12,
   "metadata": {},
   "outputs": [
    {
     "data": {
      "text/plain": [
       "0"
      ]
     },
     "execution_count": 12,
     "metadata": {},
     "output_type": "execute_result"
    }
   ],
   "source": [
    "from sklearn import tree\n",
    "model = tree.DecisionTreeClassifier()\n",
    "model.fit(df[[\"sarjana\"]], df[\"diterima\"])\n",
    "model.predict([[0]])[0]"
   ]
  },
  {
   "cell_type": "code",
   "execution_count": 13,
   "metadata": {},
   "outputs": [
    {
     "data": {
      "text/plain": [
       "[Text(167.4, 163.07999999999998, 'X[0] <= 0.5\\ngini = 0.5\\nsamples = 6\\nvalue = [3, 3]'),\n",
       " Text(83.7, 54.360000000000014, 'gini = 0.444\\nsamples = 3\\nvalue = [2, 1]'),\n",
       " Text(251.10000000000002, 54.360000000000014, 'gini = 0.444\\nsamples = 3\\nvalue = [1, 2]')]"
      ]
     },
     "execution_count": 13,
     "metadata": {},
     "output_type": "execute_result"
    },
    {
     "data": {
      "image/png": "[encoded data removed]",
      "text/plain": [
       "<Figure size 432x288 with 1 Axes>"
      ]
     },
     "metadata": {
      "needs_background": "light"
     },
     "output_type": "display_data"
    }
   ],
   "source": [
    "tree.plot_tree(model.fit(df[[\"sarjana\"]], df[\"diterima\"]))"
   ]
  },
  {
   "cell_type": "code",
   "execution_count": 15,
   "metadata": {},
   "outputs": [],
   "source": [
    "tree.export_graphviz(model.fit(df[[\"sarjana\"]], df[\"diterima\"]), \n",
    "                     out_file = \"decision.dot\", feature_names= [\"Sarjana\"],\n",
    "                    class_names = [\"Diterima\", \"Ditolak\"])"
   ]
  },
  {
   "cell_type": "markdown",
   "metadata": {},
   "source": [
    "Akan menghasilkan file \"decision.dot\" yang bisa ditampilkan dalam bentuk graphic by coding atau online"
   ]
  },
  {
   "cell_type": "markdown",
   "metadata": {},
   "source": [
    "![decisiontree](./graphviz.png)"
   ]
  },
  {
   "cell_type": "markdown",
   "metadata": {},
   "source": [
    "<hr>\n",
    "\n",
    "### Entropy & Gain\n",
    "\n",
    "- Count Entropy for each leaf in every feature : __EnS1True__ & __EnS1False__\n",
    "- Entropy = $ \\displaystyle \\sum -p_i \\cdot log_2 (p_i) $\n",
    "- Gain = E - E.feature"
   ]
  },
  {
   "cell_type": "code",
   "execution_count": 18,
   "metadata": {},
   "outputs": [
    {
     "data": {
      "text/plain": [
       "(0.38997500048077083, 0.5283208335737187, 0.9182958340544896)"
      ]
     },
     "execution_count": 18,
     "metadata": {},
     "output_type": "execute_result"
    }
   ],
   "source": [
    "EnS1TrueAccTrue = -1 * (2/3) * np.log2(2/3)\n",
    "EnS1TrueAccFalse = -1 * (1/3) * np.log2(1/3)\n",
    "TotalEnS1True = EnS1TrueAccTrue + EnS1TrueAccFalse\n",
    "EnS1TrueAccTrue, EnS1TrueAccFalse, TotalEnS1True"
   ]
  },
  {
   "cell_type": "code",
   "execution_count": 19,
   "metadata": {},
   "outputs": [
    {
     "data": {
      "text/plain": [
       "(0.5283208335737187, 0.38997500048077083, 0.9182958340544896)"
      ]
     },
     "execution_count": 19,
     "metadata": {},
     "output_type": "execute_result"
    }
   ],
   "source": [
    "EnS1FalseAccTrue = -1 * (1/3) * np.log2(1/3)\n",
    "EnS1FalseAccFalse = -1 * (2/3) * np.log2(2/3)\n",
    "TotalEnS1False = EnS1FalseAccTrue + EnS1FalseAccFalse\n",
    "EnS1FalseAccTrue, EnS1FalseAccFalse, TotalEnS1False"
   ]
  },
  {
   "cell_type": "code",
   "execution_count": 20,
   "metadata": {},
   "outputs": [
    {
     "data": {
      "text/plain": [
       "0"
      ]
     },
     "execution_count": 20,
     "metadata": {},
     "output_type": "execute_result"
    }
   ],
   "source": [
    "from sklearn import tree\n",
    "model = tree.DecisionTreeClassifier(criterion= \"entropy\")\n",
    "model.fit(df[[\"sarjana\"]], df[\"diterima\"])\n",
    "model.predict([[0]])[0]"
   ]
  },
  {
   "cell_type": "code",
   "execution_count": 21,
   "metadata": {},
   "outputs": [
    {
     "data": {
      "text/plain": [
       "[Text(167.4, 163.07999999999998, 'X[0] <= 0.5\\nentropy = 1.0\\nsamples = 6\\nvalue = [3, 3]'),\n",
       " Text(83.7, 54.360000000000014, 'entropy = 0.918\\nsamples = 3\\nvalue = [2, 1]'),\n",
       " Text(251.10000000000002, 54.360000000000014, 'entropy = 0.918\\nsamples = 3\\nvalue = [1, 2]')]"
      ]
     },
     "execution_count": 21,
     "metadata": {},
     "output_type": "execute_result"
    },
    {
     "data": {
      "image/png": "[encoded data removed]",
      "text/plain": [
       "<Figure size 432x288 with 1 Axes>"
      ]
     },
     "metadata": {
      "needs_background": "light"
     },
     "output_type": "display_data"
    }
   ],
   "source": [
    "tree.plot_tree(model.fit(df[[\"sarjana\"]], df[\"diterima\"]))"
   ]
  }
 ],
 "metadata": {
  "kernelspec": {
   "display_name": "Python 3",
   "language": "python",
   "name": "python3"
  },
  "language_info": {
   "codemirror_mode": {
    "name": "ipython",
    "version": 3
   },
   "file_extension": ".py",
   "mimetype": "text/x-python",
   "name": "python",
   "nbconvert_exporter": "python",
   "pygments_lexer": "ipython3",
   "version": "3.8.0"
  }
 },
 "nbformat": 4,
 "nbformat_minor": 4
}
