{
 "cells": [
  {
   "cell_type": "code",
   "execution_count": 1,
   "metadata": {},
   "outputs": [],
   "source": [
    "import numpy as np\n",
    "import pandas as pd\n",
    "import matplotlib.pyplot as plt"
   ]
  },
  {
   "cell_type": "code",
   "execution_count": 3,
   "metadata": {},
   "outputs": [
    {
     "data": {
      "text/plain": [
       "[<matplotlib.lines.Line2D at 0x118fc0c10>]"
      ]
     },
     "execution_count": 3,
     "metadata": {},
     "output_type": "execute_result"
    },
    {
     "data": {
      "image/png": "[encoded data removed]",
      "text/plain": [
       "<Figure size 432x288 with 1 Axes>"
      ]
     },
     "metadata": {
      "needs_background": "light"
     },
     "output_type": "display_data"
    }
   ],
   "source": [
    "data = {\n",
    "    \"x\" : np.arange(1, 11),\n",
    "    \"y\" : [0, 0, 0, 0, 0, 1, 1, 1, 1, 1]\n",
    "}\n",
    "df = pd.DataFrame(data)\n",
    "plt.plot(df[\"x\"], df[\"y\"], \"k.\")"
   ]
  },
  {
   "cell_type": "code",
   "execution_count": 4,
   "metadata": {},
   "outputs": [],
   "source": [
    "from sklearn.linear_model import LinearRegression, Ridge, Lasso, ElasticNet"
   ]
  },
  {
   "cell_type": "code",
   "execution_count": 5,
   "metadata": {},
   "outputs": [],
   "source": [
    "modelA = LinearRegression()\n",
    "modelB = Ridge()\n",
    "modelC = Lasso()\n",
    "modelD = ElasticNet()"
   ]
  },
  {
   "cell_type": "code",
   "execution_count": 8,
   "metadata": {},
   "outputs": [
    {
     "data": {
      "text/plain": [
       "ElasticNet(alpha=1.0, copy_X=True, fit_intercept=True, l1_ratio=0.5,\n",
       "           max_iter=1000, normalize=False, positive=False, precompute=False,\n",
       "           random_state=None, selection='cyclic', tol=0.0001, warm_start=False)"
      ]
     },
     "execution_count": 8,
     "metadata": {},
     "output_type": "execute_result"
    }
   ],
   "source": [
    "modelA.fit(df[[\"x\"]], df[\"y\"])\n",
    "modelB.fit(df[[\"x\"]], df[\"y\"])\n",
    "modelC.fit(df[[\"x\"]], df[\"y\"])\n",
    "modelD.fit(df[[\"x\"]], df[\"y\"])"
   ]
  },
  {
   "cell_type": "code",
   "execution_count": 11,
   "metadata": {},
   "outputs": [
    {
     "data": {
      "text/html": [
       "<div>\n",
       "<style scoped>\n",
       "    .dataframe tbody tr th:only-of-type {\n",
       "        vertical-align: middle;\n",
       "    }\n",
       "\n",
       "    .dataframe tbody tr th {\n",
       "        vertical-align: top;\n",
       "    }\n",
       "\n",
       "    .dataframe thead th {\n",
       "        text-align: right;\n",
       "    }\n",
       "</style>\n",
       "<table border=\"1\" class=\"dataframe\">\n",
       "  <thead>\n",
       "    <tr style=\"text-align: right;\">\n",
       "      <th></th>\n",
       "      <th>x</th>\n",
       "      <th>y</th>\n",
       "      <th>y'A</th>\n",
       "      <th>y'B</th>\n",
       "      <th>y'C</th>\n",
       "      <th>y'D</th>\n",
       "    </tr>\n",
       "  </thead>\n",
       "  <tbody>\n",
       "    <tr>\n",
       "      <th>0</th>\n",
       "      <td>1</td>\n",
       "      <td>0</td>\n",
       "      <td>-0.181818</td>\n",
       "      <td>-0.173653</td>\n",
       "      <td>0.363636</td>\n",
       "      <td>0.114286</td>\n",
       "    </tr>\n",
       "    <tr>\n",
       "      <th>1</th>\n",
       "      <td>2</td>\n",
       "      <td>0</td>\n",
       "      <td>-0.030303</td>\n",
       "      <td>-0.023952</td>\n",
       "      <td>0.393939</td>\n",
       "      <td>0.200000</td>\n",
       "    </tr>\n",
       "    <tr>\n",
       "      <th>2</th>\n",
       "      <td>3</td>\n",
       "      <td>0</td>\n",
       "      <td>0.121212</td>\n",
       "      <td>0.125749</td>\n",
       "      <td>0.424242</td>\n",
       "      <td>0.285714</td>\n",
       "    </tr>\n",
       "    <tr>\n",
       "      <th>3</th>\n",
       "      <td>4</td>\n",
       "      <td>0</td>\n",
       "      <td>0.272727</td>\n",
       "      <td>0.275449</td>\n",
       "      <td>0.454545</td>\n",
       "      <td>0.371429</td>\n",
       "    </tr>\n",
       "    <tr>\n",
       "      <th>4</th>\n",
       "      <td>5</td>\n",
       "      <td>0</td>\n",
       "      <td>0.424242</td>\n",
       "      <td>0.425150</td>\n",
       "      <td>0.484848</td>\n",
       "      <td>0.457143</td>\n",
       "    </tr>\n",
       "    <tr>\n",
       "      <th>5</th>\n",
       "      <td>6</td>\n",
       "      <td>1</td>\n",
       "      <td>0.575758</td>\n",
       "      <td>0.574850</td>\n",
       "      <td>0.515152</td>\n",
       "      <td>0.542857</td>\n",
       "    </tr>\n",
       "    <tr>\n",
       "      <th>6</th>\n",
       "      <td>7</td>\n",
       "      <td>1</td>\n",
       "      <td>0.727273</td>\n",
       "      <td>0.724551</td>\n",
       "      <td>0.545455</td>\n",
       "      <td>0.628571</td>\n",
       "    </tr>\n",
       "    <tr>\n",
       "      <th>7</th>\n",
       "      <td>8</td>\n",
       "      <td>1</td>\n",
       "      <td>0.878788</td>\n",
       "      <td>0.874251</td>\n",
       "      <td>0.575758</td>\n",
       "      <td>0.714286</td>\n",
       "    </tr>\n",
       "    <tr>\n",
       "      <th>8</th>\n",
       "      <td>9</td>\n",
       "      <td>1</td>\n",
       "      <td>1.030303</td>\n",
       "      <td>1.023952</td>\n",
       "      <td>0.606061</td>\n",
       "      <td>0.800000</td>\n",
       "    </tr>\n",
       "    <tr>\n",
       "      <th>9</th>\n",
       "      <td>10</td>\n",
       "      <td>1</td>\n",
       "      <td>1.181818</td>\n",
       "      <td>1.173653</td>\n",
       "      <td>0.636364</td>\n",
       "      <td>0.885714</td>\n",
       "    </tr>\n",
       "  </tbody>\n",
       "</table>\n",
       "</div>"
      ],
      "text/plain": [
       "    x  y       y'A       y'B       y'C       y'D\n",
       "0   1  0 -0.181818 -0.173653  0.363636  0.114286\n",
       "1   2  0 -0.030303 -0.023952  0.393939  0.200000\n",
       "2   3  0  0.121212  0.125749  0.424242  0.285714\n",
       "3   4  0  0.272727  0.275449  0.454545  0.371429\n",
       "4   5  0  0.424242  0.425150  0.484848  0.457143\n",
       "5   6  1  0.575758  0.574850  0.515152  0.542857\n",
       "6   7  1  0.727273  0.724551  0.545455  0.628571\n",
       "7   8  1  0.878788  0.874251  0.575758  0.714286\n",
       "8   9  1  1.030303  1.023952  0.606061  0.800000\n",
       "9  10  1  1.181818  1.173653  0.636364  0.885714"
      ]
     },
     "execution_count": 11,
     "metadata": {},
     "output_type": "execute_result"
    }
   ],
   "source": [
    "df[\"y'A\"] = modelA.predict(df[[\"x\"]])\n",
    "df[\"y'B\"] = modelB.predict(df[[\"x\"]])\n",
    "df[\"y'C\"] = modelC.predict(df[[\"x\"]])\n",
    "df[\"y'D\"] = modelD.predict(df[[\"x\"]])\n",
    "df"
   ]
  },
  {
   "cell_type": "code",
   "execution_count": 12,
   "metadata": {},
   "outputs": [
    {
     "data": {
      "image/png": "[encoded data removed]",
      "text/plain": [
       "<Figure size 432x288 with 1 Axes>"
      ]
     },
     "metadata": {
      "needs_background": "light"
     },
     "output_type": "display_data"
    }
   ],
   "source": [
    "plt.plot(df[\"x\"], df[\"y\"], \"ro\")\n",
    "plt.plot(df[\"x\"], df[\"y'A\"], \"c-\")\n",
    "plt.plot(df[\"x\"], df[\"y'B\"], \"m-\")\n",
    "plt.plot(df[\"x\"], df[\"y'C\"], \"y-\")\n",
    "plt.plot(df[\"x\"], df[\"y'D\"], \"b-\")\n",
    "\n",
    "plt.show()"
   ]
  },
  {
   "cell_type": "code",
   "execution_count": 13,
   "metadata": {},
   "outputs": [],
   "source": [
    "from sklearn.preprocessing import PolynomialFeatures\n",
    "from sklearn.pipeline import make_pipeline"
   ]
  },
  {
   "cell_type": "code",
   "execution_count": 23,
   "metadata": {},
   "outputs": [
    {
     "data": {
      "text/html": [
       "<div>\n",
       "<style scoped>\n",
       "    .dataframe tbody tr th:only-of-type {\n",
       "        vertical-align: middle;\n",
       "    }\n",
       "\n",
       "    .dataframe tbody tr th {\n",
       "        vertical-align: top;\n",
       "    }\n",
       "\n",
       "    .dataframe thead th {\n",
       "        text-align: right;\n",
       "    }\n",
       "</style>\n",
       "<table border=\"1\" class=\"dataframe\">\n",
       "  <thead>\n",
       "    <tr style=\"text-align: right;\">\n",
       "      <th></th>\n",
       "      <th>x</th>\n",
       "      <th>y</th>\n",
       "      <th>y'A</th>\n",
       "      <th>y'B</th>\n",
       "      <th>y'C</th>\n",
       "      <th>y'D</th>\n",
       "      <th>y'poly</th>\n",
       "    </tr>\n",
       "  </thead>\n",
       "  <tbody>\n",
       "    <tr>\n",
       "      <th>0</th>\n",
       "      <td>1</td>\n",
       "      <td>0</td>\n",
       "      <td>-0.181818</td>\n",
       "      <td>-0.173653</td>\n",
       "      <td>0.363636</td>\n",
       "      <td>0.114286</td>\n",
       "      <td>0.001440</td>\n",
       "    </tr>\n",
       "    <tr>\n",
       "      <th>1</th>\n",
       "      <td>2</td>\n",
       "      <td>0</td>\n",
       "      <td>-0.030303</td>\n",
       "      <td>-0.023952</td>\n",
       "      <td>0.393939</td>\n",
       "      <td>0.200000</td>\n",
       "      <td>-0.012958</td>\n",
       "    </tr>\n",
       "    <tr>\n",
       "      <th>2</th>\n",
       "      <td>3</td>\n",
       "      <td>0</td>\n",
       "      <td>0.121212</td>\n",
       "      <td>0.125749</td>\n",
       "      <td>0.424242</td>\n",
       "      <td>0.285714</td>\n",
       "      <td>0.051830</td>\n",
       "    </tr>\n",
       "    <tr>\n",
       "      <th>3</th>\n",
       "      <td>4</td>\n",
       "      <td>0</td>\n",
       "      <td>0.272727</td>\n",
       "      <td>0.275449</td>\n",
       "      <td>0.454545</td>\n",
       "      <td>0.371429</td>\n",
       "      <td>-0.120938</td>\n",
       "    </tr>\n",
       "    <tr>\n",
       "      <th>4</th>\n",
       "      <td>5</td>\n",
       "      <td>0</td>\n",
       "      <td>0.424242</td>\n",
       "      <td>0.425150</td>\n",
       "      <td>0.484848</td>\n",
       "      <td>0.457143</td>\n",
       "      <td>0.181407</td>\n",
       "    </tr>\n",
       "    <tr>\n",
       "      <th>5</th>\n",
       "      <td>6</td>\n",
       "      <td>1</td>\n",
       "      <td>0.575758</td>\n",
       "      <td>0.574850</td>\n",
       "      <td>0.515152</td>\n",
       "      <td>0.542857</td>\n",
       "      <td>0.818593</td>\n",
       "    </tr>\n",
       "    <tr>\n",
       "      <th>6</th>\n",
       "      <td>7</td>\n",
       "      <td>1</td>\n",
       "      <td>0.727273</td>\n",
       "      <td>0.724551</td>\n",
       "      <td>0.545455</td>\n",
       "      <td>0.628571</td>\n",
       "      <td>1.120938</td>\n",
       "    </tr>\n",
       "    <tr>\n",
       "      <th>7</th>\n",
       "      <td>8</td>\n",
       "      <td>1</td>\n",
       "      <td>0.878788</td>\n",
       "      <td>0.874251</td>\n",
       "      <td>0.575758</td>\n",
       "      <td>0.714286</td>\n",
       "      <td>0.948169</td>\n",
       "    </tr>\n",
       "    <tr>\n",
       "      <th>8</th>\n",
       "      <td>9</td>\n",
       "      <td>1</td>\n",
       "      <td>1.030303</td>\n",
       "      <td>1.023952</td>\n",
       "      <td>0.606061</td>\n",
       "      <td>0.800000</td>\n",
       "      <td>1.012958</td>\n",
       "    </tr>\n",
       "    <tr>\n",
       "      <th>9</th>\n",
       "      <td>10</td>\n",
       "      <td>1</td>\n",
       "      <td>1.181818</td>\n",
       "      <td>1.173653</td>\n",
       "      <td>0.636364</td>\n",
       "      <td>0.885714</td>\n",
       "      <td>0.998560</td>\n",
       "    </tr>\n",
       "  </tbody>\n",
       "</table>\n",
       "</div>"
      ],
      "text/plain": [
       "    x  y       y'A       y'B       y'C       y'D    y'poly\n",
       "0   1  0 -0.181818 -0.173653  0.363636  0.114286  0.001440\n",
       "1   2  0 -0.030303 -0.023952  0.393939  0.200000 -0.012958\n",
       "2   3  0  0.121212  0.125749  0.424242  0.285714  0.051830\n",
       "3   4  0  0.272727  0.275449  0.454545  0.371429 -0.120938\n",
       "4   5  0  0.424242  0.425150  0.484848  0.457143  0.181407\n",
       "5   6  1  0.575758  0.574850  0.515152  0.542857  0.818593\n",
       "6   7  1  0.727273  0.724551  0.545455  0.628571  1.120938\n",
       "7   8  1  0.878788  0.874251  0.575758  0.714286  0.948169\n",
       "8   9  1  1.030303  1.023952  0.606061  0.800000  1.012958\n",
       "9  10  1  1.181818  1.173653  0.636364  0.885714  0.998560"
      ]
     },
     "execution_count": 23,
     "metadata": {},
     "output_type": "execute_result"
    }
   ],
   "source": [
    "pipe = make_pipeline(\n",
    "    PolynomialFeatures(8, include_bias= False),\n",
    "    LinearRegression()\n",
    ")\n",
    "pipe.fit(df[[\"x\"]], df[\"y\"])\n",
    "df[\"y'poly\"] = pipe.predict(df[[\"x\"]])\n",
    "df"
   ]
  },
  {
   "cell_type": "code",
   "execution_count": 24,
   "metadata": {},
   "outputs": [
    {
     "data": {
      "text/plain": [
       "[<matplotlib.lines.Line2D at 0x124648ca0>]"
      ]
     },
     "execution_count": 24,
     "metadata": {},
     "output_type": "execute_result"
    },
    {
     "data": {
      "image/png": "[encoded data removed]",
      "text/plain": [
       "<Figure size 432x288 with 1 Axes>"
      ]
     },
     "metadata": {
      "needs_background": "light"
     },
     "output_type": "display_data"
    }
   ],
   "source": [
    "plt.plot(df[\"x\"], df[\"y\"], \"ro\")\n",
    "plt.plot(df[\"x\"], df[\"y'poly\"], \"c-\")"
   ]
  }
 ],
 "metadata": {
  "kernelspec": {
   "display_name": "Python 3",
   "language": "python",
   "name": "python3"
  },
  "language_info": {
   "codemirror_mode": {
    "name": "ipython",
    "version": 3
   },
   "file_extension": ".py",
   "mimetype": "text/x-python",
   "name": "python",
   "nbconvert_exporter": "python",
   "pygments_lexer": "ipython3",
   "version": "3.8.0"
  }
 },
 "nbformat": 4,
 "nbformat_minor": 4
}
