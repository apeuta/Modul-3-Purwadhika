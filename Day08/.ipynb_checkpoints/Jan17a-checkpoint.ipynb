{
 "cells": [
  {
   "cell_type": "code",
   "execution_count": 1,
   "metadata": {},
   "outputs": [],
   "source": [
    "import pandas as pd\n",
    "import numpy as np\n",
    "import matplotlib.pyplot as plt\n",
    "import seaborn as sb"
   ]
  },
  {
   "cell_type": "code",
   "execution_count": 5,
   "metadata": {},
   "outputs": [
    {
     "data": {
      "text/plain": [
       "[<matplotlib.lines.Line2D at 0x122d55820>]"
      ]
     },
     "execution_count": 5,
     "metadata": {},
     "output_type": "execute_result"
    },
    {
     "data": {
      "image/png": "[encoded data removed]",
      "text/plain": [
       "<Figure size 432x288 with 1 Axes>"
      ]
     },
     "metadata": {
      "needs_background": "light"
     },
     "output_type": "display_data"
    }
   ],
   "source": [
    "x = np.arange(0, 181, 10)\n",
    "y = np.cos(x * np.pi/180)\n",
    "plt.plot(x, y, \"ko\")"
   ]
  },
  {
   "cell_type": "markdown",
   "metadata": {},
   "source": [
    "Supaya persebaran data lebih acak, ditambahkan noise"
   ]
  },
  {
   "cell_type": "code",
   "execution_count": 35,
   "metadata": {},
   "outputs": [
    {
     "data": {
      "text/plain": [
       "[<matplotlib.lines.Line2D at 0x1270ce4c0>]"
      ]
     },
     "execution_count": 35,
     "metadata": {},
     "output_type": "execute_result"
    },
    {
     "data": {
      "image/png": "[encoded data removed]",
      "text/plain": [
       "<Figure size 432x288 with 1 Axes>"
      ]
     },
     "metadata": {
      "needs_background": "light"
     },
     "output_type": "display_data"
    }
   ],
   "source": [
    "x = np.arange(0, 361, 10)\n",
    "y = np.cos(x * np.pi/180) + np.random.normal(0, 0.15, len(x))\n",
    "plt.plot(x, y, \"k.\")"
   ]
  },
  {
   "cell_type": "code",
   "execution_count": 36,
   "metadata": {},
   "outputs": [
    {
     "data": {
      "text/html": [
       "<div>\n",
       "<style scoped>\n",
       "    .dataframe tbody tr th:only-of-type {\n",
       "        vertical-align: middle;\n",
       "    }\n",
       "\n",
       "    .dataframe tbody tr th {\n",
       "        vertical-align: top;\n",
       "    }\n",
       "\n",
       "    .dataframe thead th {\n",
       "        text-align: right;\n",
       "    }\n",
       "</style>\n",
       "<table border=\"1\" class=\"dataframe\">\n",
       "  <thead>\n",
       "    <tr style=\"text-align: right;\">\n",
       "      <th></th>\n",
       "      <th>x</th>\n",
       "      <th>y</th>\n",
       "    </tr>\n",
       "  </thead>\n",
       "  <tbody>\n",
       "    <tr>\n",
       "      <th>0</th>\n",
       "      <td>0</td>\n",
       "      <td>0.913717</td>\n",
       "    </tr>\n",
       "    <tr>\n",
       "      <th>1</th>\n",
       "      <td>10</td>\n",
       "      <td>1.024803</td>\n",
       "    </tr>\n",
       "    <tr>\n",
       "      <th>2</th>\n",
       "      <td>20</td>\n",
       "      <td>0.816552</td>\n",
       "    </tr>\n",
       "    <tr>\n",
       "      <th>3</th>\n",
       "      <td>30</td>\n",
       "      <td>0.915342</td>\n",
       "    </tr>\n",
       "    <tr>\n",
       "      <th>4</th>\n",
       "      <td>40</td>\n",
       "      <td>0.824029</td>\n",
       "    </tr>\n",
       "  </tbody>\n",
       "</table>\n",
       "</div>"
      ],
      "text/plain": [
       "    x         y\n",
       "0   0  0.913717\n",
       "1  10  1.024803\n",
       "2  20  0.816552\n",
       "3  30  0.915342\n",
       "4  40  0.824029"
      ]
     },
     "execution_count": 36,
     "metadata": {},
     "output_type": "execute_result"
    }
   ],
   "source": [
    "df = pd.DataFrame({\"x\" : x, \"y\" : y})\n",
    "df.head()"
   ]
  },
  {
   "cell_type": "code",
   "execution_count": 37,
   "metadata": {},
   "outputs": [],
   "source": [
    "from sklearn.linear_model import LinearRegression, Ridge, Lasso, ElasticNet"
   ]
  },
  {
   "cell_type": "code",
   "execution_count": 38,
   "metadata": {},
   "outputs": [
    {
     "data": {
      "text/plain": [
       "ElasticNet(alpha=1.0, copy_X=True, fit_intercept=True, l1_ratio=0.5,\n",
       "           max_iter=1000, normalize=False, positive=False, precompute=False,\n",
       "           random_state=None, selection='cyclic', tol=0.0001, warm_start=False)"
      ]
     },
     "execution_count": 38,
     "metadata": {},
     "output_type": "execute_result"
    }
   ],
   "source": [
    "modelA = LinearRegression()\n",
    "modelB = Ridge()\n",
    "modelC = Lasso()\n",
    "modelD = ElasticNet()\n",
    "\n",
    "modelA.fit(df[[\"x\"]], df[\"y\"])\n",
    "modelB.fit(df[[\"x\"]], df[\"y\"])\n",
    "modelC.fit(df[[\"x\"]], df[\"y\"])\n",
    "modelD.fit(df[[\"x\"]], df[\"y\"])"
   ]
  },
  {
   "cell_type": "markdown",
   "metadata": {},
   "source": [
    "#### Prediksi y dari 4 model"
   ]
  },
  {
   "cell_type": "code",
   "execution_count": 39,
   "metadata": {},
   "outputs": [
    {
     "data": {
      "text/html": [
       "<div>\n",
       "<style scoped>\n",
       "    .dataframe tbody tr th:only-of-type {\n",
       "        vertical-align: middle;\n",
       "    }\n",
       "\n",
       "    .dataframe tbody tr th {\n",
       "        vertical-align: top;\n",
       "    }\n",
       "\n",
       "    .dataframe thead th {\n",
       "        text-align: right;\n",
       "    }\n",
       "</style>\n",
       "<table border=\"1\" class=\"dataframe\">\n",
       "  <thead>\n",
       "    <tr style=\"text-align: right;\">\n",
       "      <th></th>\n",
       "      <th>x</th>\n",
       "      <th>y</th>\n",
       "      <th>y'A</th>\n",
       "      <th>y'B</th>\n",
       "      <th>y'C</th>\n",
       "      <th>y'D</th>\n",
       "    </tr>\n",
       "  </thead>\n",
       "  <tbody>\n",
       "    <tr>\n",
       "      <th>0</th>\n",
       "      <td>0</td>\n",
       "      <td>0.913717</td>\n",
       "      <td>0.040768</td>\n",
       "      <td>0.040768</td>\n",
       "      <td>0.024979</td>\n",
       "      <td>0.032873</td>\n",
       "    </tr>\n",
       "    <tr>\n",
       "      <th>1</th>\n",
       "      <td>10</td>\n",
       "      <td>1.024803</td>\n",
       "      <td>0.039672</td>\n",
       "      <td>0.039672</td>\n",
       "      <td>0.024759</td>\n",
       "      <td>0.032215</td>\n",
       "    </tr>\n",
       "    <tr>\n",
       "      <th>2</th>\n",
       "      <td>20</td>\n",
       "      <td>0.816552</td>\n",
       "      <td>0.038575</td>\n",
       "      <td>0.038575</td>\n",
       "      <td>0.024540</td>\n",
       "      <td>0.031557</td>\n",
       "    </tr>\n",
       "    <tr>\n",
       "      <th>3</th>\n",
       "      <td>30</td>\n",
       "      <td>0.915342</td>\n",
       "      <td>0.037478</td>\n",
       "      <td>0.037478</td>\n",
       "      <td>0.024320</td>\n",
       "      <td>0.030899</td>\n",
       "    </tr>\n",
       "    <tr>\n",
       "      <th>4</th>\n",
       "      <td>40</td>\n",
       "      <td>0.824029</td>\n",
       "      <td>0.036382</td>\n",
       "      <td>0.036382</td>\n",
       "      <td>0.024101</td>\n",
       "      <td>0.030241</td>\n",
       "    </tr>\n",
       "  </tbody>\n",
       "</table>\n",
       "</div>"
      ],
      "text/plain": [
       "    x         y       y'A       y'B       y'C       y'D\n",
       "0   0  0.913717  0.040768  0.040768  0.024979  0.032873\n",
       "1  10  1.024803  0.039672  0.039672  0.024759  0.032215\n",
       "2  20  0.816552  0.038575  0.038575  0.024540  0.031557\n",
       "3  30  0.915342  0.037478  0.037478  0.024320  0.030899\n",
       "4  40  0.824029  0.036382  0.036382  0.024101  0.030241"
      ]
     },
     "execution_count": 39,
     "metadata": {},
     "output_type": "execute_result"
    }
   ],
   "source": [
    "df[\"y'A\"] = modelA.predict(df[[\"x\"]])\n",
    "df[\"y'B\"] = modelB.predict(df[[\"x\"]])\n",
    "df[\"y'C\"] = modelC.predict(df[[\"x\"]])\n",
    "df[\"y'D\"] = modelD.predict(df[[\"x\"]])\n",
    "df.head()"
   ]
  },
  {
   "cell_type": "code",
   "execution_count": 40,
   "metadata": {},
   "outputs": [
    {
     "data": {
      "image/png": "[encoded data removed]",
      "text/plain": [
       "<Figure size 864x576 with 1 Axes>"
      ]
     },
     "metadata": {
      "needs_background": "light"
     },
     "output_type": "display_data"
    }
   ],
   "source": [
    "plt.figure(figsize= (12,8))\n",
    "\n",
    "plt.plot(df[\"x\"], df[\"y\"], \"k.\")\n",
    "plt.plot(df[\"x\"], df[\"y'A\"], \"r-\")\n",
    "plt.plot(df[\"x\"], df[\"y'B\"], \"g-\")\n",
    "plt.plot(df[\"x\"], df[\"y'C\"], \"b-\")\n",
    "plt.plot(df[\"x\"], df[\"y'D\"], \"m-\")\n",
    "\n",
    "plt.legend([\"Data\", \"Linear\", r\"Ridge $\\alpha=1$\", r\"Lasso $\\alpha=1$\", r\"ElasticNet $\\alpha=1$\"])\n",
    "\n",
    "plt.grid(True)\n",
    "plt.xlabel(\"X\"); plt.ylabel(\"Y\")\n",
    "plt.show()"
   ]
  },
  {
   "cell_type": "code",
   "execution_count": 41,
   "metadata": {},
   "outputs": [
    {
     "data": {
      "text/html": [
       "<div>\n",
       "<style scoped>\n",
       "    .dataframe tbody tr th:only-of-type {\n",
       "        vertical-align: middle;\n",
       "    }\n",
       "\n",
       "    .dataframe tbody tr th {\n",
       "        vertical-align: top;\n",
       "    }\n",
       "\n",
       "    .dataframe thead th {\n",
       "        text-align: right;\n",
       "    }\n",
       "</style>\n",
       "<table border=\"1\" class=\"dataframe\">\n",
       "  <thead>\n",
       "    <tr style=\"text-align: right;\">\n",
       "      <th></th>\n",
       "      <th>x</th>\n",
       "      <th>y</th>\n",
       "      <th>y'A</th>\n",
       "      <th>y'B</th>\n",
       "      <th>y'C</th>\n",
       "      <th>y'D</th>\n",
       "      <th>x2</th>\n",
       "      <th>x3</th>\n",
       "      <th>x4</th>\n",
       "      <th>x5</th>\n",
       "    </tr>\n",
       "  </thead>\n",
       "  <tbody>\n",
       "    <tr>\n",
       "      <th>0</th>\n",
       "      <td>0</td>\n",
       "      <td>0.913717</td>\n",
       "      <td>0.040768</td>\n",
       "      <td>0.040768</td>\n",
       "      <td>0.024979</td>\n",
       "      <td>0.032873</td>\n",
       "      <td>0</td>\n",
       "      <td>0</td>\n",
       "      <td>0</td>\n",
       "      <td>0</td>\n",
       "    </tr>\n",
       "    <tr>\n",
       "      <th>1</th>\n",
       "      <td>10</td>\n",
       "      <td>1.024803</td>\n",
       "      <td>0.039672</td>\n",
       "      <td>0.039672</td>\n",
       "      <td>0.024759</td>\n",
       "      <td>0.032215</td>\n",
       "      <td>100</td>\n",
       "      <td>1000</td>\n",
       "      <td>10000</td>\n",
       "      <td>100000</td>\n",
       "    </tr>\n",
       "    <tr>\n",
       "      <th>2</th>\n",
       "      <td>20</td>\n",
       "      <td>0.816552</td>\n",
       "      <td>0.038575</td>\n",
       "      <td>0.038575</td>\n",
       "      <td>0.024540</td>\n",
       "      <td>0.031557</td>\n",
       "      <td>400</td>\n",
       "      <td>8000</td>\n",
       "      <td>160000</td>\n",
       "      <td>3200000</td>\n",
       "    </tr>\n",
       "    <tr>\n",
       "      <th>3</th>\n",
       "      <td>30</td>\n",
       "      <td>0.915342</td>\n",
       "      <td>0.037478</td>\n",
       "      <td>0.037478</td>\n",
       "      <td>0.024320</td>\n",
       "      <td>0.030899</td>\n",
       "      <td>900</td>\n",
       "      <td>27000</td>\n",
       "      <td>810000</td>\n",
       "      <td>24300000</td>\n",
       "    </tr>\n",
       "    <tr>\n",
       "      <th>4</th>\n",
       "      <td>40</td>\n",
       "      <td>0.824029</td>\n",
       "      <td>0.036382</td>\n",
       "      <td>0.036382</td>\n",
       "      <td>0.024101</td>\n",
       "      <td>0.030241</td>\n",
       "      <td>1600</td>\n",
       "      <td>64000</td>\n",
       "      <td>2560000</td>\n",
       "      <td>102400000</td>\n",
       "    </tr>\n",
       "  </tbody>\n",
       "</table>\n",
       "</div>"
      ],
      "text/plain": [
       "    x         y       y'A       y'B       y'C       y'D    x2     x3       x4  \\\n",
       "0   0  0.913717  0.040768  0.040768  0.024979  0.032873     0      0        0   \n",
       "1  10  1.024803  0.039672  0.039672  0.024759  0.032215   100   1000    10000   \n",
       "2  20  0.816552  0.038575  0.038575  0.024540  0.031557   400   8000   160000   \n",
       "3  30  0.915342  0.037478  0.037478  0.024320  0.030899   900  27000   810000   \n",
       "4  40  0.824029  0.036382  0.036382  0.024101  0.030241  1600  64000  2560000   \n",
       "\n",
       "          x5  \n",
       "0          0  \n",
       "1     100000  \n",
       "2    3200000  \n",
       "3   24300000  \n",
       "4  102400000  "
      ]
     },
     "execution_count": 41,
     "metadata": {},
     "output_type": "execute_result"
    }
   ],
   "source": [
    "for i in range(2, 6):\n",
    "    df[f\"x{i}\"] = df[\"x\"] ** i\n",
    "    \n",
    "df.head()"
   ]
  },
  {
   "cell_type": "code",
   "execution_count": 42,
   "metadata": {},
   "outputs": [
    {
     "data": {
      "text/plain": [
       "[<matplotlib.lines.Line2D at 0x1262f1190>]"
      ]
     },
     "execution_count": 42,
     "metadata": {},
     "output_type": "execute_result"
    },
    {
     "data": {
      "image/png": "[encoded data removed]",
      "text/plain": [
       "<Figure size 432x288 with 1 Axes>"
      ]
     },
     "metadata": {
      "needs_background": "light"
     },
     "output_type": "display_data"
    }
   ],
   "source": [
    "modelE = LinearRegression()\n",
    "modelE.fit(df[[\"x\", \"x2\"]], df[\"y\"])\n",
    "df[\"y'E2\"] = modelE.predict(df[[\"x\", \"x2\"]])\n",
    "\n",
    "plt.plot(df[\"x\"], df[\"y\"], \"k.\")\n",
    "plt.plot(df[\"x\"], df[\"y'E2\"], \"r-\")"
   ]
  },
  {
   "cell_type": "code",
   "execution_count": 45,
   "metadata": {},
   "outputs": [
    {
     "data": {
      "text/plain": [
       "[<matplotlib.lines.Line2D at 0x1278d7be0>]"
      ]
     },
     "execution_count": 45,
     "metadata": {},
     "output_type": "execute_result"
    },
    {
     "data": {
      "image/png": "[encoded data removed]",
      "text/plain": [
       "<Figure size 432x288 with 1 Axes>"
      ]
     },
     "metadata": {
      "needs_background": "light"
     },
     "output_type": "display_data"
    }
   ],
   "source": [
    "modelEE = LinearRegression()\n",
    "xn = [\"x\"]\n",
    "for i in range(2, 6):\n",
    "    xn.append(f\"x{i}\")\n",
    "    modelEE.fit(df[xn], df[\"y\"])\n",
    "    df[f\"y'EE{i}\"] = modelEE.predict(df[xn])\n",
    "\n",
    "plt.plot(df[\"x\"], df[\"y\"], \"k.\")\n",
    "plt.plot(df[\"x\"], df[\"y'EE2\"], \"r-\")\n",
    "plt.plot(df[\"x\"], df[\"y'EE3\"], \"g-\")\n",
    "plt.plot(df[\"x\"], df[\"y'EE4\"], \"b-\")"
   ]
  }
 ],
 "metadata": {
  "kernelspec": {
   "display_name": "Python 3",
   "language": "python",
   "name": "python3"
  },
  "language_info": {
   "codemirror_mode": {
    "name": "ipython",
    "version": 3
   },
   "file_extension": ".py",
   "mimetype": "text/x-python",
   "name": "python",
   "nbconvert_exporter": "python",
   "pygments_lexer": "ipython3",
   "version": "3.8.0"
  }
 },
 "nbformat": 4,
 "nbformat_minor": 4
}
