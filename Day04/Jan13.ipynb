{
 "cells": [
  {
   "cell_type": "markdown",
   "metadata": {},
   "source": [
    "## STANDARDIZE\n",
    "\n",
    "scaling, minimize gap, show outlier"
   ]
  },
  {
   "cell_type": "code",
   "execution_count": 1,
   "metadata": {},
   "outputs": [],
   "source": [
    "import pandas as pd\n",
    "import numpy as np\n",
    "import matplotlib.pyplot as plt"
   ]
  },
  {
   "cell_type": "code",
   "execution_count": 2,
   "metadata": {},
   "outputs": [
    {
     "data": {
      "text/html": [
       "<div>\n",
       "<style scoped>\n",
       "    .dataframe tbody tr th:only-of-type {\n",
       "        vertical-align: middle;\n",
       "    }\n",
       "\n",
       "    .dataframe tbody tr th {\n",
       "        vertical-align: top;\n",
       "    }\n",
       "\n",
       "    .dataframe thead th {\n",
       "        text-align: right;\n",
       "    }\n",
       "</style>\n",
       "<table border=\"1\" class=\"dataframe\">\n",
       "  <thead>\n",
       "    <tr style=\"text-align: right;\">\n",
       "      <th></th>\n",
       "      <th>TB</th>\n",
       "      <th>BB</th>\n",
       "    </tr>\n",
       "  </thead>\n",
       "  <tbody>\n",
       "    <tr>\n",
       "      <th>0</th>\n",
       "      <td>0.80</td>\n",
       "      <td>20</td>\n",
       "    </tr>\n",
       "    <tr>\n",
       "      <th>1</th>\n",
       "      <td>0.85</td>\n",
       "      <td>25</td>\n",
       "    </tr>\n",
       "    <tr>\n",
       "      <th>2</th>\n",
       "      <td>0.92</td>\n",
       "      <td>21</td>\n",
       "    </tr>\n",
       "    <tr>\n",
       "      <th>3</th>\n",
       "      <td>0.88</td>\n",
       "      <td>29</td>\n",
       "    </tr>\n",
       "    <tr>\n",
       "      <th>4</th>\n",
       "      <td>0.82</td>\n",
       "      <td>30</td>\n",
       "    </tr>\n",
       "    <tr>\n",
       "      <th>5</th>\n",
       "      <td>0.86</td>\n",
       "      <td>21</td>\n",
       "    </tr>\n",
       "    <tr>\n",
       "      <th>6</th>\n",
       "      <td>0.87</td>\n",
       "      <td>28</td>\n",
       "    </tr>\n",
       "    <tr>\n",
       "      <th>7</th>\n",
       "      <td>0.93</td>\n",
       "      <td>27</td>\n",
       "    </tr>\n",
       "    <tr>\n",
       "      <th>8</th>\n",
       "      <td>0.81</td>\n",
       "      <td>29</td>\n",
       "    </tr>\n",
       "    <tr>\n",
       "      <th>9</th>\n",
       "      <td>1.00</td>\n",
       "      <td>30</td>\n",
       "    </tr>\n",
       "  </tbody>\n",
       "</table>\n",
       "</div>"
      ],
      "text/plain": [
       "     TB  BB\n",
       "0  0.80  20\n",
       "1  0.85  25\n",
       "2  0.92  21\n",
       "3  0.88  29\n",
       "4  0.82  30\n",
       "5  0.86  21\n",
       "6  0.87  28\n",
       "7  0.93  27\n",
       "8  0.81  29\n",
       "9  1.00  30"
      ]
     },
     "execution_count": 2,
     "metadata": {},
     "output_type": "execute_result"
    }
   ],
   "source": [
    "data = {\n",
    "    \"TB\" : [0.8, 0.85, 0.92, 0.88, 0.82, 0.86, 0.87, 0.93, 0.81, 1],\n",
    "    \"BB\" : [20, 25, 21, 29, 30, 21, 28, 27, 29, 30]\n",
    "}\n",
    "df = pd.DataFrame(data)\n",
    "df"
   ]
  },
  {
   "cell_type": "markdown",
   "metadata": {},
   "source": [
    "__Read from MS XL__"
   ]
  },
  {
   "cell_type": "code",
   "execution_count": 16,
   "metadata": {},
   "outputs": [
    {
     "data": {
      "text/html": [
       "<div>\n",
       "<style scoped>\n",
       "    .dataframe tbody tr th:only-of-type {\n",
       "        vertical-align: middle;\n",
       "    }\n",
       "\n",
       "    .dataframe tbody tr th {\n",
       "        vertical-align: top;\n",
       "    }\n",
       "\n",
       "    .dataframe thead th {\n",
       "        text-align: right;\n",
       "    }\n",
       "</style>\n",
       "<table border=\"1\" class=\"dataframe\">\n",
       "  <thead>\n",
       "    <tr style=\"text-align: right;\">\n",
       "      <th></th>\n",
       "      <th>TB (m)</th>\n",
       "      <th>BB (kg)</th>\n",
       "    </tr>\n",
       "  </thead>\n",
       "  <tbody>\n",
       "    <tr>\n",
       "      <th>0</th>\n",
       "      <td>0.8</td>\n",
       "      <td>20</td>\n",
       "    </tr>\n",
       "    <tr>\n",
       "      <th>1</th>\n",
       "      <td>0.85</td>\n",
       "      <td>25</td>\n",
       "    </tr>\n",
       "    <tr>\n",
       "      <th>2</th>\n",
       "      <td>0.92</td>\n",
       "      <td>21</td>\n",
       "    </tr>\n",
       "    <tr>\n",
       "      <th>3</th>\n",
       "      <td>0.88</td>\n",
       "      <td>29</td>\n",
       "    </tr>\n",
       "    <tr>\n",
       "      <th>4</th>\n",
       "      <td>0.82</td>\n",
       "      <td>30</td>\n",
       "    </tr>\n",
       "    <tr>\n",
       "      <th>5</th>\n",
       "      <td>0.86</td>\n",
       "      <td>21</td>\n",
       "    </tr>\n",
       "    <tr>\n",
       "      <th>6</th>\n",
       "      <td>0.87</td>\n",
       "      <td>28</td>\n",
       "    </tr>\n",
       "    <tr>\n",
       "      <th>7</th>\n",
       "      <td>0.93</td>\n",
       "      <td>27</td>\n",
       "    </tr>\n",
       "    <tr>\n",
       "      <th>8</th>\n",
       "      <td>0.81</td>\n",
       "      <td>29</td>\n",
       "    </tr>\n",
       "    <tr>\n",
       "      <th>9</th>\n",
       "      <td>1</td>\n",
       "      <td>30</td>\n",
       "    </tr>\n",
       "  </tbody>\n",
       "</table>\n",
       "</div>"
      ],
      "text/plain": [
       "  TB (m) BB (kg)\n",
       "0    0.8      20\n",
       "1   0.85      25\n",
       "2   0.92      21\n",
       "3   0.88      29\n",
       "4   0.82      30\n",
       "5   0.86      21\n",
       "6   0.87      28\n",
       "7   0.93      27\n",
       "8   0.81      29\n",
       "9      1      30"
      ]
     },
     "execution_count": 16,
     "metadata": {},
     "output_type": "execute_result"
    }
   ],
   "source": [
    "dfXL = pd.read_excel(\"DataBBTB.xlsx\", skiprows=6, header=1)\n",
    "dfXL = dfXL[[\"TB (m)\", \"BB (kg)\"]].iloc[:10]\n",
    "dfXL"
   ]
  },
  {
   "cell_type": "markdown",
   "metadata": {},
   "source": [
    "<hr>"
   ]
  },
  {
   "cell_type": "markdown",
   "metadata": {},
   "source": [
    "## Standarisasi Formula\n",
    "\n",
    "Standarisasi $\\displaystyle z_{score} = \\frac {x - \\bar{x} } {s} $,\n",
    "dengan standar deviasi $\\displaystyle s = \\sqrt {\\frac {\\sum (x - \\bar {x}) ^ 2 } {n - ddof}}$\n",
    "\n",
    "- High outlier jika $ z_{score} > 2.5 $\n",
    "- Low outlier jika $ z_{score} < -2.5 $\n",
    "- Data terstandarisasi jika\n",
    "$\\bar{z}$ ~ 0 dan $d_{z}$ ~ 1 "
   ]
  },
  {
   "cell_type": "markdown",
   "metadata": {},
   "source": [
    "__Count s with pandas__"
   ]
  },
  {
   "cell_type": "code",
   "execution_count": 17,
   "metadata": {},
   "outputs": [
    {
     "data": {
      "text/plain": [
       "0.06186005711819757"
      ]
     },
     "execution_count": 17,
     "metadata": {},
     "output_type": "execute_result"
    }
   ],
   "source": [
    "dfXL[\"TB (m)\"].std()"
   ]
  },
  {
   "cell_type": "code",
   "execution_count": 18,
   "metadata": {},
   "outputs": [
    {
     "data": {
      "text/plain": [
       "3.972125095937662"
      ]
     },
     "execution_count": 18,
     "metadata": {},
     "output_type": "execute_result"
    }
   ],
   "source": [
    "dfXL[\"BB (kg)\"].std()"
   ]
  },
  {
   "cell_type": "markdown",
   "metadata": {},
   "source": [
    "__Count s with numpy/sklearn__"
   ]
  },
  {
   "cell_type": "code",
   "execution_count": 20,
   "metadata": {},
   "outputs": [
    {
     "data": {
      "text/plain": [
       "0.05868560300448484"
      ]
     },
     "execution_count": 20,
     "metadata": {},
     "output_type": "execute_result"
    }
   ],
   "source": [
    "np.std(dfXL[\"TB (m)\"])"
   ]
  },
  {
   "cell_type": "code",
   "execution_count": 21,
   "metadata": {},
   "outputs": [
    {
     "data": {
      "text/plain": [
       "3.7682887362833544"
      ]
     },
     "execution_count": 21,
     "metadata": {},
     "output_type": "execute_result"
    }
   ],
   "source": [
    "np.std(dfXL[\"BB (kg)\"])"
   ]
  },
  {
   "cell_type": "markdown",
   "metadata": {},
   "source": [
    "_nilainya berbeda, karena defaultnya ddof (delta degree of freedom) nya adalah 0 </br>\n",
    "padahal untuk standar deviasi sampel, ddofnya adalah 1_"
   ]
  },
  {
   "cell_type": "code",
   "execution_count": 22,
   "metadata": {},
   "outputs": [
    {
     "data": {
      "text/plain": [
       "0.06186005711819757"
      ]
     },
     "execution_count": 22,
     "metadata": {},
     "output_type": "execute_result"
    }
   ],
   "source": [
    "np.std(dfXL[\"TB (m)\"], ddof = 1)"
   ]
  },
  {
   "cell_type": "code",
   "execution_count": 23,
   "metadata": {},
   "outputs": [
    {
     "data": {
      "text/plain": [
       "3.972125095937662"
      ]
     },
     "execution_count": 23,
     "metadata": {},
     "output_type": "execute_result"
    }
   ],
   "source": [
    "np.std(dfXL[\"BB (kg)\"], ddof = 1)"
   ]
  },
  {
   "cell_type": "markdown",
   "metadata": {},
   "source": [
    "<hr>"
   ]
  },
  {
   "cell_type": "markdown",
   "metadata": {},
   "source": [
    "__Standarisasi Z score with Pandas__"
   ]
  },
  {
   "cell_type": "code",
   "execution_count": 26,
   "metadata": {},
   "outputs": [
    {
     "data": {
      "text/html": [
       "<div>\n",
       "<style scoped>\n",
       "    .dataframe tbody tr th:only-of-type {\n",
       "        vertical-align: middle;\n",
       "    }\n",
       "\n",
       "    .dataframe tbody tr th {\n",
       "        vertical-align: top;\n",
       "    }\n",
       "\n",
       "    .dataframe thead th {\n",
       "        text-align: right;\n",
       "    }\n",
       "</style>\n",
       "<table border=\"1\" class=\"dataframe\">\n",
       "  <thead>\n",
       "    <tr style=\"text-align: right;\">\n",
       "      <th></th>\n",
       "      <th>TB (m)</th>\n",
       "      <th>BB (kg)</th>\n",
       "      <th>Z TB pd</th>\n",
       "      <th>Z BB pd</th>\n",
       "    </tr>\n",
       "  </thead>\n",
       "  <tbody>\n",
       "    <tr>\n",
       "      <th>0</th>\n",
       "      <td>0.8</td>\n",
       "      <td>20</td>\n",
       "      <td>-1.19625</td>\n",
       "      <td>-1.51053</td>\n",
       "    </tr>\n",
       "    <tr>\n",
       "      <th>1</th>\n",
       "      <td>0.85</td>\n",
       "      <td>25</td>\n",
       "      <td>-0.387972</td>\n",
       "      <td>-0.251754</td>\n",
       "    </tr>\n",
       "    <tr>\n",
       "      <th>2</th>\n",
       "      <td>0.92</td>\n",
       "      <td>21</td>\n",
       "      <td>0.743614</td>\n",
       "      <td>-1.25877</td>\n",
       "    </tr>\n",
       "    <tr>\n",
       "      <th>3</th>\n",
       "      <td>0.88</td>\n",
       "      <td>29</td>\n",
       "      <td>0.0969931</td>\n",
       "      <td>0.755263</td>\n",
       "    </tr>\n",
       "    <tr>\n",
       "      <th>4</th>\n",
       "      <td>0.82</td>\n",
       "      <td>30</td>\n",
       "      <td>-0.872938</td>\n",
       "      <td>1.00702</td>\n",
       "    </tr>\n",
       "    <tr>\n",
       "      <th>5</th>\n",
       "      <td>0.86</td>\n",
       "      <td>21</td>\n",
       "      <td>-0.226317</td>\n",
       "      <td>-1.25877</td>\n",
       "    </tr>\n",
       "    <tr>\n",
       "      <th>6</th>\n",
       "      <td>0.87</td>\n",
       "      <td>28</td>\n",
       "      <td>-0.0646621</td>\n",
       "      <td>0.503509</td>\n",
       "    </tr>\n",
       "    <tr>\n",
       "      <th>7</th>\n",
       "      <td>0.93</td>\n",
       "      <td>27</td>\n",
       "      <td>0.905269</td>\n",
       "      <td>0.251754</td>\n",
       "    </tr>\n",
       "    <tr>\n",
       "      <th>8</th>\n",
       "      <td>0.81</td>\n",
       "      <td>29</td>\n",
       "      <td>-1.03459</td>\n",
       "      <td>0.755263</td>\n",
       "    </tr>\n",
       "    <tr>\n",
       "      <th>9</th>\n",
       "      <td>1</td>\n",
       "      <td>30</td>\n",
       "      <td>2.03686</td>\n",
       "      <td>1.00702</td>\n",
       "    </tr>\n",
       "  </tbody>\n",
       "</table>\n",
       "</div>"
      ],
      "text/plain": [
       "  TB (m) BB (kg)    Z TB pd   Z BB pd\n",
       "0    0.8      20   -1.19625  -1.51053\n",
       "1   0.85      25  -0.387972 -0.251754\n",
       "2   0.92      21   0.743614  -1.25877\n",
       "3   0.88      29  0.0969931  0.755263\n",
       "4   0.82      30  -0.872938   1.00702\n",
       "5   0.86      21  -0.226317  -1.25877\n",
       "6   0.87      28 -0.0646621  0.503509\n",
       "7   0.93      27   0.905269  0.251754\n",
       "8   0.81      29   -1.03459  0.755263\n",
       "9      1      30    2.03686   1.00702"
      ]
     },
     "execution_count": 26,
     "metadata": {},
     "output_type": "execute_result"
    }
   ],
   "source": [
    "dfXL[\"Z TB pd\"] = (dfXL[\"TB (m)\"] - dfXL[\"TB (m)\"].mean())/ dfXL[\"TB (m)\"].std()\n",
    "dfXL[\"Z BB pd\"] = (dfXL[\"BB (kg)\"] - dfXL[\"BB (kg)\"].mean())/ dfXL[\"BB (kg)\"].std()\n",
    "dfXL"
   ]
  },
  {
   "cell_type": "markdown",
   "metadata": {},
   "source": [
    "__Standarisasi Z score with Numpy__"
   ]
  },
  {
   "cell_type": "code",
   "execution_count": 27,
   "metadata": {},
   "outputs": [
    {
     "data": {
      "text/html": [
       "<div>\n",
       "<style scoped>\n",
       "    .dataframe tbody tr th:only-of-type {\n",
       "        vertical-align: middle;\n",
       "    }\n",
       "\n",
       "    .dataframe tbody tr th {\n",
       "        vertical-align: top;\n",
       "    }\n",
       "\n",
       "    .dataframe thead th {\n",
       "        text-align: right;\n",
       "    }\n",
       "</style>\n",
       "<table border=\"1\" class=\"dataframe\">\n",
       "  <thead>\n",
       "    <tr style=\"text-align: right;\">\n",
       "      <th></th>\n",
       "      <th>TB (m)</th>\n",
       "      <th>BB (kg)</th>\n",
       "      <th>Z TB pd</th>\n",
       "      <th>Z BB pd</th>\n",
       "      <th>Z TB np</th>\n",
       "      <th>Z BB np</th>\n",
       "    </tr>\n",
       "  </thead>\n",
       "  <tbody>\n",
       "    <tr>\n",
       "      <th>0</th>\n",
       "      <td>0.8</td>\n",
       "      <td>20</td>\n",
       "      <td>-1.19625</td>\n",
       "      <td>-1.51053</td>\n",
       "      <td>-1.26096</td>\n",
       "      <td>-1.59223</td>\n",
       "    </tr>\n",
       "    <tr>\n",
       "      <th>1</th>\n",
       "      <td>0.85</td>\n",
       "      <td>25</td>\n",
       "      <td>-0.387972</td>\n",
       "      <td>-0.251754</td>\n",
       "      <td>-0.408959</td>\n",
       "      <td>-0.265372</td>\n",
       "    </tr>\n",
       "    <tr>\n",
       "      <th>2</th>\n",
       "      <td>0.92</td>\n",
       "      <td>21</td>\n",
       "      <td>0.743614</td>\n",
       "      <td>-1.25877</td>\n",
       "      <td>0.783838</td>\n",
       "      <td>-1.32686</td>\n",
       "    </tr>\n",
       "    <tr>\n",
       "      <th>3</th>\n",
       "      <td>0.88</td>\n",
       "      <td>29</td>\n",
       "      <td>0.0969931</td>\n",
       "      <td>0.755263</td>\n",
       "      <td>0.10224</td>\n",
       "      <td>0.796117</td>\n",
       "    </tr>\n",
       "    <tr>\n",
       "      <th>4</th>\n",
       "      <td>0.82</td>\n",
       "      <td>30</td>\n",
       "      <td>-0.872938</td>\n",
       "      <td>1.00702</td>\n",
       "      <td>-0.920158</td>\n",
       "      <td>1.06149</td>\n",
       "    </tr>\n",
       "    <tr>\n",
       "      <th>5</th>\n",
       "      <td>0.86</td>\n",
       "      <td>21</td>\n",
       "      <td>-0.226317</td>\n",
       "      <td>-1.25877</td>\n",
       "      <td>-0.238559</td>\n",
       "      <td>-1.32686</td>\n",
       "    </tr>\n",
       "    <tr>\n",
       "      <th>6</th>\n",
       "      <td>0.87</td>\n",
       "      <td>28</td>\n",
       "      <td>-0.0646621</td>\n",
       "      <td>0.503509</td>\n",
       "      <td>-0.0681598</td>\n",
       "      <td>0.530745</td>\n",
       "    </tr>\n",
       "    <tr>\n",
       "      <th>7</th>\n",
       "      <td>0.93</td>\n",
       "      <td>27</td>\n",
       "      <td>0.905269</td>\n",
       "      <td>0.251754</td>\n",
       "      <td>0.954237</td>\n",
       "      <td>0.265372</td>\n",
       "    </tr>\n",
       "    <tr>\n",
       "      <th>8</th>\n",
       "      <td>0.81</td>\n",
       "      <td>29</td>\n",
       "      <td>-1.03459</td>\n",
       "      <td>0.755263</td>\n",
       "      <td>-1.09056</td>\n",
       "      <td>0.796117</td>\n",
       "    </tr>\n",
       "    <tr>\n",
       "      <th>9</th>\n",
       "      <td>1</td>\n",
       "      <td>30</td>\n",
       "      <td>2.03686</td>\n",
       "      <td>1.00702</td>\n",
       "      <td>2.14703</td>\n",
       "      <td>1.06149</td>\n",
       "    </tr>\n",
       "  </tbody>\n",
       "</table>\n",
       "</div>"
      ],
      "text/plain": [
       "  TB (m) BB (kg)    Z TB pd   Z BB pd    Z TB np   Z BB np\n",
       "0    0.8      20   -1.19625  -1.51053   -1.26096  -1.59223\n",
       "1   0.85      25  -0.387972 -0.251754  -0.408959 -0.265372\n",
       "2   0.92      21   0.743614  -1.25877   0.783838  -1.32686\n",
       "3   0.88      29  0.0969931  0.755263    0.10224  0.796117\n",
       "4   0.82      30  -0.872938   1.00702  -0.920158   1.06149\n",
       "5   0.86      21  -0.226317  -1.25877  -0.238559  -1.32686\n",
       "6   0.87      28 -0.0646621  0.503509 -0.0681598  0.530745\n",
       "7   0.93      27   0.905269  0.251754   0.954237  0.265372\n",
       "8   0.81      29   -1.03459  0.755263   -1.09056  0.796117\n",
       "9      1      30    2.03686   1.00702    2.14703   1.06149"
      ]
     },
     "execution_count": 27,
     "metadata": {},
     "output_type": "execute_result"
    }
   ],
   "source": [
    "dfXL[\"Z TB np\"] = (dfXL[\"TB (m)\"] - dfXL[\"TB (m)\"].mean())/ np.std(dfXL[\"TB (m)\"])\n",
    "dfXL[\"Z BB np\"] = (dfXL[\"BB (kg)\"] - dfXL[\"BB (kg)\"].mean())/ np.std(dfXL[\"BB (kg)\"])\n",
    "dfXL"
   ]
  },
  {
   "cell_type": "markdown",
   "metadata": {},
   "source": [
    "__Cek Standarisasi >> mean & std__"
   ]
  },
  {
   "cell_type": "code",
   "execution_count": 31,
   "metadata": {},
   "outputs": [
    {
     "name": "stdout",
     "output_type": "stream",
     "text": [
      "1.7763568394002506e-16\n",
      "-8.881784197001253e-17\n",
      "1.3322676295501878e-16\n",
      "0.0\n",
      "1.0000000000000002\n",
      "1.0\n",
      "1.0540925533894598\n",
      "1.0540925533894598\n"
     ]
    }
   ],
   "source": [
    "print(dfXL[\"Z TB pd\"].mean())\n",
    "print(dfXL[\"Z BB pd\"].mean())\n",
    "print(dfXL[\"Z TB np\"].mean())\n",
    "print(dfXL[\"Z BB np\"].mean())\n",
    "\n",
    "print(dfXL[\"Z TB pd\"].std())\n",
    "print(dfXL[\"Z BB pd\"].std())\n",
    "print(dfXL[\"Z TB np\"].std())\n",
    "print(dfXL[\"Z BB np\"].std())"
   ]
  },
  {
   "cell_type": "code",
   "execution_count": 32,
   "metadata": {},
   "outputs": [
    {
     "data": {
      "image/png": "[encoded data removed]",
      "text/plain": [
       "<Figure size 432x288 with 3 Axes>"
      ]
     },
     "metadata": {
      "needs_background": "light"
     },
     "output_type": "display_data"
    }
   ],
   "source": [
    "plt.subplot(131)\n",
    "plt.scatter(dfXL[\"TB (m)\"], dfXL[\"BB (kg)\"])\n",
    "plt.subplot(132)\n",
    "plt.scatter(dfXL[\"Z TB pd\"], dfXL[\"Z BB pd\"])\n",
    "plt.subplot(133)\n",
    "plt.scatter(dfXL[\"Z TB np\"], dfXL[\"Z BB np\"])\n",
    "plt.show()"
   ]
  },
  {
   "cell_type": "markdown",
   "metadata": {},
   "source": [
    "____"
   ]
  },
  {
   "cell_type": "markdown",
   "metadata": {},
   "source": [
    "### Standarisasi dengan Sklearn"
   ]
  },
  {
   "cell_type": "markdown",
   "metadata": {},
   "source": [
    "#### import package"
   ]
  },
  {
   "cell_type": "code",
   "execution_count": 54,
   "metadata": {},
   "outputs": [],
   "source": [
    "from sklearn.preprocessing import StandardScaler"
   ]
  },
  {
   "cell_type": "markdown",
   "metadata": {},
   "source": [
    "####  fit transform"
   ]
  },
  {
   "cell_type": "code",
   "execution_count": 59,
   "metadata": {},
   "outputs": [
    {
     "data": {
      "text/plain": [
       "array([[-1.26095663],\n",
       "       [-0.40895891],\n",
       "       [ 0.7838379 ],\n",
       "       [ 0.10223973],\n",
       "       [-0.92015754],\n",
       "       [-0.23855936],\n",
       "       [-0.06815982],\n",
       "       [ 0.95423745],\n",
       "       [-1.09055708],\n",
       "       [ 2.14703426]])"
      ]
     },
     "execution_count": 59,
     "metadata": {},
     "output_type": "execute_result"
    }
   ],
   "source": [
    "scalertb = StandardScaler()\n",
    "y = scalertb.fit_transform(dfXL[[\"TB (m)\"]])\n",
    "y"
   ]
  },
  {
   "cell_type": "code",
   "execution_count": 60,
   "metadata": {},
   "outputs": [
    {
     "data": {
      "text/plain": [
       "array([[-1.59223468],\n",
       "       [-0.26537245],\n",
       "       [-1.32686223],\n",
       "       [ 0.79611734],\n",
       "       [ 1.06148978],\n",
       "       [-1.32686223],\n",
       "       [ 0.53074489],\n",
       "       [ 0.26537245],\n",
       "       [ 0.79611734],\n",
       "       [ 1.06148978]])"
      ]
     },
     "execution_count": 60,
     "metadata": {},
     "output_type": "execute_result"
    }
   ],
   "source": [
    "scalerbb = StandardScaler()\n",
    "z = scalerbb.fit_transform(dfXL[[\"BB (kg)\"]])\n",
    "z"
   ]
  },
  {
   "cell_type": "code",
   "execution_count": 61,
   "metadata": {},
   "outputs": [
    {
     "data": {
      "text/html": [
       "<div>\n",
       "<style scoped>\n",
       "    .dataframe tbody tr th:only-of-type {\n",
       "        vertical-align: middle;\n",
       "    }\n",
       "\n",
       "    .dataframe tbody tr th {\n",
       "        vertical-align: top;\n",
       "    }\n",
       "\n",
       "    .dataframe thead th {\n",
       "        text-align: right;\n",
       "    }\n",
       "</style>\n",
       "<table border=\"1\" class=\"dataframe\">\n",
       "  <thead>\n",
       "    <tr style=\"text-align: right;\">\n",
       "      <th></th>\n",
       "      <th>TB (m)</th>\n",
       "      <th>BB (kg)</th>\n",
       "      <th>Z TB pd</th>\n",
       "      <th>Z BB pd</th>\n",
       "      <th>Z TB np</th>\n",
       "      <th>Z BB np</th>\n",
       "      <th>Z TB skl</th>\n",
       "      <th>Z BB skl</th>\n",
       "    </tr>\n",
       "  </thead>\n",
       "  <tbody>\n",
       "    <tr>\n",
       "      <th>0</th>\n",
       "      <td>0.8</td>\n",
       "      <td>20</td>\n",
       "      <td>-1.19625</td>\n",
       "      <td>-1.51053</td>\n",
       "      <td>-1.26096</td>\n",
       "      <td>-1.59223</td>\n",
       "      <td>-1.260957</td>\n",
       "      <td>-1.592235</td>\n",
       "    </tr>\n",
       "    <tr>\n",
       "      <th>1</th>\n",
       "      <td>0.85</td>\n",
       "      <td>25</td>\n",
       "      <td>-0.387972</td>\n",
       "      <td>-0.251754</td>\n",
       "      <td>-0.408959</td>\n",
       "      <td>-0.265372</td>\n",
       "      <td>-0.408959</td>\n",
       "      <td>-0.265372</td>\n",
       "    </tr>\n",
       "    <tr>\n",
       "      <th>2</th>\n",
       "      <td>0.92</td>\n",
       "      <td>21</td>\n",
       "      <td>0.743614</td>\n",
       "      <td>-1.25877</td>\n",
       "      <td>0.783838</td>\n",
       "      <td>-1.32686</td>\n",
       "      <td>0.783838</td>\n",
       "      <td>-1.326862</td>\n",
       "    </tr>\n",
       "    <tr>\n",
       "      <th>3</th>\n",
       "      <td>0.88</td>\n",
       "      <td>29</td>\n",
       "      <td>0.0969931</td>\n",
       "      <td>0.755263</td>\n",
       "      <td>0.10224</td>\n",
       "      <td>0.796117</td>\n",
       "      <td>0.102240</td>\n",
       "      <td>0.796117</td>\n",
       "    </tr>\n",
       "    <tr>\n",
       "      <th>4</th>\n",
       "      <td>0.82</td>\n",
       "      <td>30</td>\n",
       "      <td>-0.872938</td>\n",
       "      <td>1.00702</td>\n",
       "      <td>-0.920158</td>\n",
       "      <td>1.06149</td>\n",
       "      <td>-0.920158</td>\n",
       "      <td>1.061490</td>\n",
       "    </tr>\n",
       "    <tr>\n",
       "      <th>5</th>\n",
       "      <td>0.86</td>\n",
       "      <td>21</td>\n",
       "      <td>-0.226317</td>\n",
       "      <td>-1.25877</td>\n",
       "      <td>-0.238559</td>\n",
       "      <td>-1.32686</td>\n",
       "      <td>-0.238559</td>\n",
       "      <td>-1.326862</td>\n",
       "    </tr>\n",
       "    <tr>\n",
       "      <th>6</th>\n",
       "      <td>0.87</td>\n",
       "      <td>28</td>\n",
       "      <td>-0.0646621</td>\n",
       "      <td>0.503509</td>\n",
       "      <td>-0.0681598</td>\n",
       "      <td>0.530745</td>\n",
       "      <td>-0.068160</td>\n",
       "      <td>0.530745</td>\n",
       "    </tr>\n",
       "    <tr>\n",
       "      <th>7</th>\n",
       "      <td>0.93</td>\n",
       "      <td>27</td>\n",
       "      <td>0.905269</td>\n",
       "      <td>0.251754</td>\n",
       "      <td>0.954237</td>\n",
       "      <td>0.265372</td>\n",
       "      <td>0.954237</td>\n",
       "      <td>0.265372</td>\n",
       "    </tr>\n",
       "    <tr>\n",
       "      <th>8</th>\n",
       "      <td>0.81</td>\n",
       "      <td>29</td>\n",
       "      <td>-1.03459</td>\n",
       "      <td>0.755263</td>\n",
       "      <td>-1.09056</td>\n",
       "      <td>0.796117</td>\n",
       "      <td>-1.090557</td>\n",
       "      <td>0.796117</td>\n",
       "    </tr>\n",
       "    <tr>\n",
       "      <th>9</th>\n",
       "      <td>1</td>\n",
       "      <td>30</td>\n",
       "      <td>2.03686</td>\n",
       "      <td>1.00702</td>\n",
       "      <td>2.14703</td>\n",
       "      <td>1.06149</td>\n",
       "      <td>2.147034</td>\n",
       "      <td>1.061490</td>\n",
       "    </tr>\n",
       "  </tbody>\n",
       "</table>\n",
       "</div>"
      ],
      "text/plain": [
       "  TB (m) BB (kg)    Z TB pd   Z BB pd    Z TB np   Z BB np  Z TB skl  Z BB skl\n",
       "0    0.8      20   -1.19625  -1.51053   -1.26096  -1.59223 -1.260957 -1.592235\n",
       "1   0.85      25  -0.387972 -0.251754  -0.408959 -0.265372 -0.408959 -0.265372\n",
       "2   0.92      21   0.743614  -1.25877   0.783838  -1.32686  0.783838 -1.326862\n",
       "3   0.88      29  0.0969931  0.755263    0.10224  0.796117  0.102240  0.796117\n",
       "4   0.82      30  -0.872938   1.00702  -0.920158   1.06149 -0.920158  1.061490\n",
       "5   0.86      21  -0.226317  -1.25877  -0.238559  -1.32686 -0.238559 -1.326862\n",
       "6   0.87      28 -0.0646621  0.503509 -0.0681598  0.530745 -0.068160  0.530745\n",
       "7   0.93      27   0.905269  0.251754   0.954237  0.265372  0.954237  0.265372\n",
       "8   0.81      29   -1.03459  0.755263   -1.09056  0.796117 -1.090557  0.796117\n",
       "9      1      30    2.03686   1.00702    2.14703   1.06149  2.147034  1.061490"
      ]
     },
     "execution_count": 61,
     "metadata": {},
     "output_type": "execute_result"
    }
   ],
   "source": [
    "dfXL[\"Z TB skl\"] = y\n",
    "dfXL[\"Z BB skl\"] = z\n",
    "dfXL"
   ]
  },
  {
   "cell_type": "markdown",
   "metadata": {},
   "source": [
    "#### inverse transform"
   ]
  },
  {
   "cell_type": "code",
   "execution_count": 66,
   "metadata": {},
   "outputs": [
    {
     "name": "stdout",
     "output_type": "stream",
     "text": [
      "[[0.8 ]\n",
      " [0.85]\n",
      " [0.92]\n",
      " [0.88]\n",
      " [0.82]\n",
      " [0.86]\n",
      " [0.87]\n",
      " [0.93]\n",
      " [0.81]\n",
      " [1.  ]]\n",
      "[[20.]\n",
      " [25.]\n",
      " [21.]\n",
      " [29.]\n",
      " [30.]\n",
      " [21.]\n",
      " [28.]\n",
      " [27.]\n",
      " [29.]\n",
      " [30.]]\n"
     ]
    }
   ],
   "source": [
    "invTB = scalertb.inverse_transform(dfXL[[\"Z TB skl\"]])\n",
    "invBB = scalerbb.inverse_transform(dfXL[[\"Z BB skl\"]])\n",
    "\n",
    "print (invTB)\n",
    "print (invBB)"
   ]
  },
  {
   "cell_type": "markdown",
   "metadata": {},
   "source": [
    "#### without parsing"
   ]
  },
  {
   "cell_type": "code",
   "execution_count": 69,
   "metadata": {},
   "outputs": [
    {
     "data": {
      "text/plain": [
       "array([[-1.26095663, -1.59223468],\n",
       "       [-0.40895891, -0.26537245],\n",
       "       [ 0.7838379 , -1.32686223],\n",
       "       [ 0.10223973,  0.79611734],\n",
       "       [-0.92015754,  1.06148978],\n",
       "       [-0.23855936, -1.32686223],\n",
       "       [-0.06815982,  0.53074489],\n",
       "       [ 0.95423745,  0.26537245],\n",
       "       [-1.09055708,  0.79611734],\n",
       "       [ 2.14703426,  1.06148978]])"
      ]
     },
     "execution_count": 69,
     "metadata": {},
     "output_type": "execute_result"
    }
   ],
   "source": [
    "scaler = StandardScaler()\n",
    "scaler.fit(dfXL[[\"TB (m)\" ,\"BB (kg)\"]])\n",
    "zz = scaler.transform(dfXL[[\"TB (m)\", \"BB (kg)\"]])\n",
    "zz"
   ]
  },
  {
   "cell_type": "code",
   "execution_count": 70,
   "metadata": {},
   "outputs": [
    {
     "data": {
      "text/plain": [
       "array([-1.26095663, -0.40895891,  0.7838379 ,  0.10223973, -0.92015754,\n",
       "       -0.23855936, -0.06815982,  0.95423745, -1.09055708,  2.14703426])"
      ]
     },
     "execution_count": 70,
     "metadata": {},
     "output_type": "execute_result"
    }
   ],
   "source": [
    "zzTB = zz[:,0]\n",
    "zzTB"
   ]
  },
  {
   "cell_type": "code",
   "execution_count": 71,
   "metadata": {},
   "outputs": [
    {
     "data": {
      "text/plain": [
       "array([-1.59223468, -0.26537245, -1.32686223,  0.79611734,  1.06148978,\n",
       "       -1.32686223,  0.53074489,  0.26537245,  0.79611734,  1.06148978])"
      ]
     },
     "execution_count": 71,
     "metadata": {},
     "output_type": "execute_result"
    }
   ],
   "source": [
    "zzBB = zz[:,1]\n",
    "zzBB"
   ]
  },
  {
   "cell_type": "code",
   "execution_count": 72,
   "metadata": {},
   "outputs": [
    {
     "data": {
      "text/html": [
       "<div>\n",
       "<style scoped>\n",
       "    .dataframe tbody tr th:only-of-type {\n",
       "        vertical-align: middle;\n",
       "    }\n",
       "\n",
       "    .dataframe tbody tr th {\n",
       "        vertical-align: top;\n",
       "    }\n",
       "\n",
       "    .dataframe thead th {\n",
       "        text-align: right;\n",
       "    }\n",
       "</style>\n",
       "<table border=\"1\" class=\"dataframe\">\n",
       "  <thead>\n",
       "    <tr style=\"text-align: right;\">\n",
       "      <th></th>\n",
       "      <th>TB (m)</th>\n",
       "      <th>BB (kg)</th>\n",
       "      <th>Z TB pd</th>\n",
       "      <th>Z BB pd</th>\n",
       "      <th>Z TB np</th>\n",
       "      <th>Z BB np</th>\n",
       "      <th>Z TB skl</th>\n",
       "      <th>Z BB skl</th>\n",
       "      <th>Z TB skl2</th>\n",
       "      <th>Z BB skl2</th>\n",
       "    </tr>\n",
       "  </thead>\n",
       "  <tbody>\n",
       "    <tr>\n",
       "      <th>0</th>\n",
       "      <td>0.8</td>\n",
       "      <td>20</td>\n",
       "      <td>-1.19625</td>\n",
       "      <td>-1.51053</td>\n",
       "      <td>-1.26096</td>\n",
       "      <td>-1.59223</td>\n",
       "      <td>-1.260957</td>\n",
       "      <td>-1.592235</td>\n",
       "      <td>-1.260957</td>\n",
       "      <td>-1.592235</td>\n",
       "    </tr>\n",
       "    <tr>\n",
       "      <th>1</th>\n",
       "      <td>0.85</td>\n",
       "      <td>25</td>\n",
       "      <td>-0.387972</td>\n",
       "      <td>-0.251754</td>\n",
       "      <td>-0.408959</td>\n",
       "      <td>-0.265372</td>\n",
       "      <td>-0.408959</td>\n",
       "      <td>-0.265372</td>\n",
       "      <td>-0.408959</td>\n",
       "      <td>-0.265372</td>\n",
       "    </tr>\n",
       "    <tr>\n",
       "      <th>2</th>\n",
       "      <td>0.92</td>\n",
       "      <td>21</td>\n",
       "      <td>0.743614</td>\n",
       "      <td>-1.25877</td>\n",
       "      <td>0.783838</td>\n",
       "      <td>-1.32686</td>\n",
       "      <td>0.783838</td>\n",
       "      <td>-1.326862</td>\n",
       "      <td>0.783838</td>\n",
       "      <td>-1.326862</td>\n",
       "    </tr>\n",
       "    <tr>\n",
       "      <th>3</th>\n",
       "      <td>0.88</td>\n",
       "      <td>29</td>\n",
       "      <td>0.0969931</td>\n",
       "      <td>0.755263</td>\n",
       "      <td>0.10224</td>\n",
       "      <td>0.796117</td>\n",
       "      <td>0.102240</td>\n",
       "      <td>0.796117</td>\n",
       "      <td>0.102240</td>\n",
       "      <td>0.796117</td>\n",
       "    </tr>\n",
       "    <tr>\n",
       "      <th>4</th>\n",
       "      <td>0.82</td>\n",
       "      <td>30</td>\n",
       "      <td>-0.872938</td>\n",
       "      <td>1.00702</td>\n",
       "      <td>-0.920158</td>\n",
       "      <td>1.06149</td>\n",
       "      <td>-0.920158</td>\n",
       "      <td>1.061490</td>\n",
       "      <td>-0.920158</td>\n",
       "      <td>1.061490</td>\n",
       "    </tr>\n",
       "    <tr>\n",
       "      <th>5</th>\n",
       "      <td>0.86</td>\n",
       "      <td>21</td>\n",
       "      <td>-0.226317</td>\n",
       "      <td>-1.25877</td>\n",
       "      <td>-0.238559</td>\n",
       "      <td>-1.32686</td>\n",
       "      <td>-0.238559</td>\n",
       "      <td>-1.326862</td>\n",
       "      <td>-0.238559</td>\n",
       "      <td>-1.326862</td>\n",
       "    </tr>\n",
       "    <tr>\n",
       "      <th>6</th>\n",
       "      <td>0.87</td>\n",
       "      <td>28</td>\n",
       "      <td>-0.0646621</td>\n",
       "      <td>0.503509</td>\n",
       "      <td>-0.0681598</td>\n",
       "      <td>0.530745</td>\n",
       "      <td>-0.068160</td>\n",
       "      <td>0.530745</td>\n",
       "      <td>-0.068160</td>\n",
       "      <td>0.530745</td>\n",
       "    </tr>\n",
       "    <tr>\n",
       "      <th>7</th>\n",
       "      <td>0.93</td>\n",
       "      <td>27</td>\n",
       "      <td>0.905269</td>\n",
       "      <td>0.251754</td>\n",
       "      <td>0.954237</td>\n",
       "      <td>0.265372</td>\n",
       "      <td>0.954237</td>\n",
       "      <td>0.265372</td>\n",
       "      <td>0.954237</td>\n",
       "      <td>0.265372</td>\n",
       "    </tr>\n",
       "    <tr>\n",
       "      <th>8</th>\n",
       "      <td>0.81</td>\n",
       "      <td>29</td>\n",
       "      <td>-1.03459</td>\n",
       "      <td>0.755263</td>\n",
       "      <td>-1.09056</td>\n",
       "      <td>0.796117</td>\n",
       "      <td>-1.090557</td>\n",
       "      <td>0.796117</td>\n",
       "      <td>-1.090557</td>\n",
       "      <td>0.796117</td>\n",
       "    </tr>\n",
       "    <tr>\n",
       "      <th>9</th>\n",
       "      <td>1</td>\n",
       "      <td>30</td>\n",
       "      <td>2.03686</td>\n",
       "      <td>1.00702</td>\n",
       "      <td>2.14703</td>\n",
       "      <td>1.06149</td>\n",
       "      <td>2.147034</td>\n",
       "      <td>1.061490</td>\n",
       "      <td>2.147034</td>\n",
       "      <td>1.061490</td>\n",
       "    </tr>\n",
       "  </tbody>\n",
       "</table>\n",
       "</div>"
      ],
      "text/plain": [
       "  TB (m) BB (kg)    Z TB pd   Z BB pd    Z TB np   Z BB np  Z TB skl  \\\n",
       "0    0.8      20   -1.19625  -1.51053   -1.26096  -1.59223 -1.260957   \n",
       "1   0.85      25  -0.387972 -0.251754  -0.408959 -0.265372 -0.408959   \n",
       "2   0.92      21   0.743614  -1.25877   0.783838  -1.32686  0.783838   \n",
       "3   0.88      29  0.0969931  0.755263    0.10224  0.796117  0.102240   \n",
       "4   0.82      30  -0.872938   1.00702  -0.920158   1.06149 -0.920158   \n",
       "5   0.86      21  -0.226317  -1.25877  -0.238559  -1.32686 -0.238559   \n",
       "6   0.87      28 -0.0646621  0.503509 -0.0681598  0.530745 -0.068160   \n",
       "7   0.93      27   0.905269  0.251754   0.954237  0.265372  0.954237   \n",
       "8   0.81      29   -1.03459  0.755263   -1.09056  0.796117 -1.090557   \n",
       "9      1      30    2.03686   1.00702    2.14703   1.06149  2.147034   \n",
       "\n",
       "   Z BB skl  Z TB skl2  Z BB skl2  \n",
       "0 -1.592235  -1.260957  -1.592235  \n",
       "1 -0.265372  -0.408959  -0.265372  \n",
       "2 -1.326862   0.783838  -1.326862  \n",
       "3  0.796117   0.102240   0.796117  \n",
       "4  1.061490  -0.920158   1.061490  \n",
       "5 -1.326862  -0.238559  -1.326862  \n",
       "6  0.530745  -0.068160   0.530745  \n",
       "7  0.265372   0.954237   0.265372  \n",
       "8  0.796117  -1.090557   0.796117  \n",
       "9  1.061490   2.147034   1.061490  "
      ]
     },
     "execution_count": 72,
     "metadata": {},
     "output_type": "execute_result"
    }
   ],
   "source": [
    "dfXL[\"Z TB skl2\"] = zzTB\n",
    "dfXL[\"Z BB skl2\"] = zzBB\n",
    "dfXL"
   ]
  },
  {
   "cell_type": "code",
   "execution_count": 73,
   "metadata": {},
   "outputs": [
    {
     "data": {
      "text/plain": [
       "array([[0.8       , 0.78055875],\n",
       "       [0.85      , 0.85842646],\n",
       "       [0.92      , 0.79613229],\n",
       "       [0.88      , 0.92072063],\n",
       "       [0.82      , 0.93629417],\n",
       "       [0.86      , 0.79613229],\n",
       "       [0.87      , 0.90514708],\n",
       "       [0.93      , 0.88957354],\n",
       "       [0.81      , 0.92072063],\n",
       "       [1.        , 0.93629417]])"
      ]
     },
     "execution_count": 73,
     "metadata": {},
     "output_type": "execute_result"
    }
   ],
   "source": [
    "inv = scalertb.inverse_transform(dfXL[[\"Z TB skl2\", \"Z BB skl2\"]])\n",
    "inv"
   ]
  }
 ],
 "metadata": {
  "kernelspec": {
   "display_name": "Python 3",
   "language": "python",
   "name": "python3"
  },
  "language_info": {
   "codemirror_mode": {
    "name": "ipython",
    "version": 3
   },
   "file_extension": ".py",
   "mimetype": "text/x-python",
   "name": "python",
   "nbconvert_exporter": "python",
   "pygments_lexer": "ipython3",
   "version": "3.8.0"
  }
 },
 "nbformat": 4,
 "nbformat_minor": 4
}
